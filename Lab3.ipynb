{
  "nbformat": 4,
  "nbformat_minor": 0,
  "metadata": {
    "colab": {
      "name": "Lab3",
      "provenance": [],
      "collapsed_sections": [],
      "authorship_tag": "ABX9TyM8mI9xk4pE13hWKTZA3Cqz",
      "include_colab_link": true
    },
    "kernelspec": {
      "name": "python3",
      "display_name": "Python 3"
    }
  },
  "cells": [
    {
      "cell_type": "markdown",
      "metadata": {
        "id": "view-in-github",
        "colab_type": "text"
      },
      "source": [
        "<a href=\"https://colab.research.google.com/github/Shostina/ML/blob/main/Lab3.ipynb\" target=\"_parent\"><img src=\"https://colab.research.google.com/assets/colab-badge.svg\" alt=\"Open In Colab\"/></a>"
      ]
    },
    {
      "cell_type": "code",
      "metadata": {
        "id": "3JBycw83__tO"
      },
      "source": [
        "import csv\n",
        "import numpy as np\n",
        "from sklearn import svm\n",
        "from sklearn.model_selection import cross_val_score\n",
        "from sklearn.ensemble import RandomForestClassifier\n",
        "from sklearn.naive_bayes import GaussianNB"
      ],
      "execution_count": 1,
      "outputs": []
    },
    {
      "cell_type": "code",
      "metadata": {
        "colab": {
          "base_uri": "https://localhost:8080/"
        },
        "id": "jyumnaG35C-d",
        "outputId": "baa01718-3908-464e-b9fc-6948cc4c09f5"
      },
      "source": [
        "from google.colab import drive\n",
        "drive.mount('/content/drive/')\n"
      ],
      "execution_count": 2,
      "outputs": [
        {
          "output_type": "stream",
          "text": [
            "Drive already mounted at /content/drive/; to attempt to forcibly remount, call drive.mount(\"/content/drive/\", force_remount=True).\n"
          ],
          "name": "stdout"
        }
      ]
    },
    {
      "cell_type": "code",
      "metadata": {
        "colab": {
          "base_uri": "https://localhost:8080/"
        },
        "id": "rPGyFSzI5txm",
        "outputId": "23829310-616c-499c-eeb8-f6f5f0d1ce5b"
      },
      "source": [
        "import pandas as pd\n",
        "%cd /content/drive/My\\ Drive/ML\n",
        "train = pd.read_csv('LondonTrain.csv')\n",
        "featuresFoursquare = pd.read_csv('featuresLondon/Foursquare/venueCategoriesLDA6Features.csv')\n",
        "featuresInstagram = pd.read_csv('featuresLondon/Instagram/imageConceptsFeatures.csv')\n",
        "featuresTwitterLDA50 = pd.read_csv('featuresLondon/Twitter/LDA50Features.csv')\n",
        "featuresTwitterLIWC = pd.read_csv('featuresLondon/Twitter/LIWCFeatures.csv')\n",
        "featuresTwitterText = pd.read_csv('featuresLondon/Twitter/manuallyDefinedTextFeatures.csv')"
      ],
      "execution_count": 33,
      "outputs": [
        {
          "output_type": "stream",
          "text": [
            "/content/drive/My Drive/ML\n"
          ],
          "name": "stdout"
        }
      ]
    },
    {
      "cell_type": "code",
      "metadata": {
        "id": "7jA7ksgB95yc"
      },
      "source": [
        "income_res = train[[\"row ID\", \"income\"]].dropna()\n",
        "gender_res = train[[\"row ID\", \"gender\"]].dropna()\n",
        "gender_train = gender_res.join(featuresInstagram.set_index(\"_id\"), on=\"row ID\").dropna()\n",
        "gender_res = gender_train[[\"gender\"]]\n",
        "gender_feat = pd.DataFrame(gender_train)\n",
        "del(gender_feat['row ID'])\n",
        "del(gender_feat['gender'])\n",
        "income_train = income_res.join(featuresInstagram.set_index(\"_id\"), on=\"row ID\").dropna()\n",
        "income_res = income_train[[\"income\"]]\n",
        "income_feat = pd.DataFrame(income_train)\n",
        "del(income_feat['row ID'])\n",
        "del(income_feat['income'])"
      ],
      "execution_count": 5,
      "outputs": []
    },
    {
      "cell_type": "code",
      "metadata": {
        "colab": {
          "base_uri": "https://localhost:8080/",
          "height": 586
        },
        "id": "mN_QAXzK_hr0",
        "outputId": "c8f27176-79bb-469a-8fd1-c6314d2bfb1b"
      },
      "source": [
        "train"
      ],
      "execution_count": null,
      "outputs": [
        {
          "output_type": "execute_result",
          "data": {
            "text/html": [
              "<div>\n",
              "<style scoped>\n",
              "    .dataframe tbody tr th:only-of-type {\n",
              "        vertical-align: middle;\n",
              "    }\n",
              "\n",
              "    .dataframe tbody tr th {\n",
              "        vertical-align: top;\n",
              "    }\n",
              "\n",
              "    .dataframe thead th {\n",
              "        text-align: right;\n",
              "    }\n",
              "</style>\n",
              "<table border=\"1\" class=\"dataframe\">\n",
              "  <thead>\n",
              "    <tr style=\"text-align: right;\">\n",
              "      <th></th>\n",
              "      <th>row ID</th>\n",
              "      <th>educationInfoForAgeGroupEstimation</th>\n",
              "      <th>workInfoForAgeGroupEstimation</th>\n",
              "      <th>gender</th>\n",
              "      <th>realAge</th>\n",
              "      <th>ageGroup</th>\n",
              "      <th>relationship</th>\n",
              "      <th>educationLevel</th>\n",
              "      <th>occupation</th>\n",
              "      <th>income</th>\n",
              "    </tr>\n",
              "  </thead>\n",
              "  <tbody>\n",
              "    <tr>\n",
              "      <th>0</th>\n",
              "      <td>b91f2c096c71434747b3fc62c324abc3</td>\n",
              "      <td>NaN</td>\n",
              "      <td>NaN</td>\n",
              "      <td>female</td>\n",
              "      <td>NaN</td>\n",
              "      <td>NaN</td>\n",
              "      <td>NaN</td>\n",
              "      <td>NaN</td>\n",
              "      <td>NaN</td>\n",
              "      <td>NaN</td>\n",
              "    </tr>\n",
              "    <tr>\n",
              "      <th>1</th>\n",
              "      <td>1f8b8ec545b6e0fe8d86da7f1dcbb43c</td>\n",
              "      <td>NaN</td>\n",
              "      <td>Edenred Employee Benefits Advisor � November 2...</td>\n",
              "      <td>female</td>\n",
              "      <td>NaN</td>\n",
              "      <td>NaN</td>\n",
              "      <td>NaN</td>\n",
              "      <td>NaN</td>\n",
              "      <td>personal care and service</td>\n",
              "      <td>NaN</td>\n",
              "    </tr>\n",
              "    <tr>\n",
              "      <th>2</th>\n",
              "      <td>ecec708ce2078de02beaec22c86c279f</td>\n",
              "      <td>Uppsala University Egyptology � Uppsala, Sweden</td>\n",
              "      <td>NaN</td>\n",
              "      <td>male</td>\n",
              "      <td>NaN</td>\n",
              "      <td>NaN</td>\n",
              "      <td>NaN</td>\n",
              "      <td>undergraduate</td>\n",
              "      <td>NaN</td>\n",
              "      <td>NaN</td>\n",
              "    </tr>\n",
              "    <tr>\n",
              "      <th>3</th>\n",
              "      <td>e87606f217aa0a10bff85bd4cdce129f</td>\n",
              "      <td>NaN</td>\n",
              "      <td>Booking.com Cambridge, Cambridgeshire</td>\n",
              "      <td>male</td>\n",
              "      <td>NaN</td>\n",
              "      <td>NaN</td>\n",
              "      <td>NaN</td>\n",
              "      <td>NaN</td>\n",
              "      <td>NaN</td>\n",
              "      <td>NaN</td>\n",
              "    </tr>\n",
              "    <tr>\n",
              "      <th>4</th>\n",
              "      <td>8bbc0c87b6b1a31c99ecd11a326142d7</td>\n",
              "      <td>University of Verona 2008 to 2010 � Nursing � ...</td>\n",
              "      <td>Coogee Pavilion Pizza Chef � 13 April 2015 to ...</td>\n",
              "      <td>male</td>\n",
              "      <td>NaN</td>\n",
              "      <td>NaN</td>\n",
              "      <td>single</td>\n",
              "      <td>undergraduate</td>\n",
              "      <td>food preparation and service related</td>\n",
              "      <td>NaN</td>\n",
              "    </tr>\n",
              "    <tr>\n",
              "      <th>...</th>\n",
              "      <td>...</td>\n",
              "      <td>...</td>\n",
              "      <td>...</td>\n",
              "      <td>...</td>\n",
              "      <td>...</td>\n",
              "      <td>...</td>\n",
              "      <td>...</td>\n",
              "      <td>...</td>\n",
              "      <td>...</td>\n",
              "      <td>...</td>\n",
              "    </tr>\n",
              "    <tr>\n",
              "      <th>3273</th>\n",
              "      <td>c30ad48a872006252602aa3f7733321a</td>\n",
              "      <td>NaN</td>\n",
              "      <td>NaN</td>\n",
              "      <td>male</td>\n",
              "      <td>NaN</td>\n",
              "      <td>NaN</td>\n",
              "      <td>NaN</td>\n",
              "      <td>NaN</td>\n",
              "      <td>NaN</td>\n",
              "      <td>NaN</td>\n",
              "    </tr>\n",
              "    <tr>\n",
              "      <th>3274</th>\n",
              "      <td>753b3f95a54291c9d698d3640e8f73b7</td>\n",
              "      <td>Tottenham College of Technology Class of 1979 ...</td>\n",
              "      <td>NaN</td>\n",
              "      <td>female</td>\n",
              "      <td>NaN</td>\n",
              "      <td>NaN</td>\n",
              "      <td>NaN</td>\n",
              "      <td>college</td>\n",
              "      <td>NaN</td>\n",
              "      <td>NaN</td>\n",
              "    </tr>\n",
              "    <tr>\n",
              "      <th>3275</th>\n",
              "      <td>c1c3b60af322612f60a72a46572c9bbe</td>\n",
              "      <td>NaN</td>\n",
              "      <td>NaN</td>\n",
              "      <td>male</td>\n",
              "      <td>NaN</td>\n",
              "      <td>NaN</td>\n",
              "      <td>NaN</td>\n",
              "      <td>NaN</td>\n",
              "      <td>NaN</td>\n",
              "      <td>NaN</td>\n",
              "    </tr>\n",
              "    <tr>\n",
              "      <th>3276</th>\n",
              "      <td>8e481d2afd7803523314992885582a50</td>\n",
              "      <td>The Magna Carta School Class of 1994 � Staines...</td>\n",
              "      <td>Medivet Richmond Head Nurse � 25 November 2013...</td>\n",
              "      <td>male</td>\n",
              "      <td>NaN</td>\n",
              "      <td>NaN</td>\n",
              "      <td>NaN</td>\n",
              "      <td>school</td>\n",
              "      <td>healthcare practitioners and technical</td>\n",
              "      <td>NaN</td>\n",
              "    </tr>\n",
              "    <tr>\n",
              "      <th>3277</th>\n",
              "      <td>f6aaff32b1014722319ccf6121a16cb2</td>\n",
              "      <td>NaN</td>\n",
              "      <td>NaN</td>\n",
              "      <td>female</td>\n",
              "      <td>NaN</td>\n",
              "      <td>NaN</td>\n",
              "      <td>NaN</td>\n",
              "      <td>NaN</td>\n",
              "      <td>NaN</td>\n",
              "      <td>NaN</td>\n",
              "    </tr>\n",
              "  </tbody>\n",
              "</table>\n",
              "<p>3278 rows × 10 columns</p>\n",
              "</div>"
            ],
            "text/plain": [
              "                                row ID  ... income\n",
              "0     b91f2c096c71434747b3fc62c324abc3  ...    NaN\n",
              "1     1f8b8ec545b6e0fe8d86da7f1dcbb43c  ...    NaN\n",
              "2     ecec708ce2078de02beaec22c86c279f  ...    NaN\n",
              "3     e87606f217aa0a10bff85bd4cdce129f  ...    NaN\n",
              "4     8bbc0c87b6b1a31c99ecd11a326142d7  ...    NaN\n",
              "...                                ...  ...    ...\n",
              "3273  c30ad48a872006252602aa3f7733321a  ...    NaN\n",
              "3274  753b3f95a54291c9d698d3640e8f73b7  ...    NaN\n",
              "3275  c1c3b60af322612f60a72a46572c9bbe  ...    NaN\n",
              "3276  8e481d2afd7803523314992885582a50  ...    NaN\n",
              "3277  f6aaff32b1014722319ccf6121a16cb2  ...    NaN\n",
              "\n",
              "[3278 rows x 10 columns]"
            ]
          },
          "metadata": {
            "tags": []
          },
          "execution_count": 14
        }
      ]
    },
    {
      "cell_type": "code",
      "metadata": {
        "id": "z5Vcs5H2IbQX",
        "colab": {
          "base_uri": "https://localhost:8080/"
        },
        "outputId": "c2df1e12-0ed9-4c32-d0c7-ccb9bc765ac2"
      },
      "source": [
        "clf = svm.SVC(kernel='linear', C=1).fit(gender_feat.values, gender_res.values)\n",
        "accuracy = cross_val_score(clf, gender_feat.values, gender_res.values, cv=5)\n",
        "print(\"Gender Accuracy:\", accuracy.mean(), \" +/-\", accuracy.std() * 2)\n",
        "f1 = cross_val_score(clf, gender_feat.values, np.ravel(gender_res.values), cv=5, scoring='f1_macro')\n",
        "print(\"Gender F1 Macro:\", f1.mean(), \" +/-\", f1.std() * 2 )\n",
        "\n",
        "clf = svm.SVC(kernel='linear', C=1).fit(income_feat.values, income_res.values)\n",
        "accuracy = cross_val_score(clf, income_feat.values, income_res.values, cv=5)\n",
        "print(\"Income Accuracy:\", accuracy.mean(), \" +/-\", accuracy.std() * 2)\n",
        "f1 = cross_val_score(clf, income_feat.values, np.ravel(income_res.values), cv=5, scoring='f1_macro')\n",
        "print(\"Income F1 Macro:\", f1.mean(), \" +/-\", f1.std() * 2 )"
      ],
      "execution_count": 6,
      "outputs": [
        {
          "output_type": "stream",
          "text": [
            "/usr/local/lib/python3.6/dist-packages/sklearn/utils/validation.py:760: DataConversionWarning: A column-vector y was passed when a 1d array was expected. Please change the shape of y to (n_samples, ), for example using ravel().\n",
            "  y = column_or_1d(y, warn=True)\n",
            "/usr/local/lib/python3.6/dist-packages/sklearn/utils/validation.py:760: DataConversionWarning: A column-vector y was passed when a 1d array was expected. Please change the shape of y to (n_samples, ), for example using ravel().\n",
            "  y = column_or_1d(y, warn=True)\n",
            "/usr/local/lib/python3.6/dist-packages/sklearn/utils/validation.py:760: DataConversionWarning: A column-vector y was passed when a 1d array was expected. Please change the shape of y to (n_samples, ), for example using ravel().\n",
            "  y = column_or_1d(y, warn=True)\n",
            "/usr/local/lib/python3.6/dist-packages/sklearn/utils/validation.py:760: DataConversionWarning: A column-vector y was passed when a 1d array was expected. Please change the shape of y to (n_samples, ), for example using ravel().\n",
            "  y = column_or_1d(y, warn=True)\n",
            "/usr/local/lib/python3.6/dist-packages/sklearn/utils/validation.py:760: DataConversionWarning: A column-vector y was passed when a 1d array was expected. Please change the shape of y to (n_samples, ), for example using ravel().\n",
            "  y = column_or_1d(y, warn=True)\n",
            "/usr/local/lib/python3.6/dist-packages/sklearn/utils/validation.py:760: DataConversionWarning: A column-vector y was passed when a 1d array was expected. Please change the shape of y to (n_samples, ), for example using ravel().\n",
            "  y = column_or_1d(y, warn=True)\n"
          ],
          "name": "stderr"
        },
        {
          "output_type": "stream",
          "text": [
            "Gender Accuracy: 0.7010019267822736  +/- 0.04256917481681755\n",
            "Gender F1 Macro: 0.6522215921723069  +/- 0.05499195116962284\n"
          ],
          "name": "stdout"
        },
        {
          "output_type": "stream",
          "text": [
            "/usr/local/lib/python3.6/dist-packages/sklearn/utils/validation.py:760: DataConversionWarning: A column-vector y was passed when a 1d array was expected. Please change the shape of y to (n_samples, ), for example using ravel().\n",
            "  y = column_or_1d(y, warn=True)\n",
            "/usr/local/lib/python3.6/dist-packages/sklearn/model_selection/_split.py:667: UserWarning: The least populated class in y has only 4 members, which is less than n_splits=5.\n",
            "  % (min_groups, self.n_splits)), UserWarning)\n",
            "/usr/local/lib/python3.6/dist-packages/sklearn/utils/validation.py:760: DataConversionWarning: A column-vector y was passed when a 1d array was expected. Please change the shape of y to (n_samples, ), for example using ravel().\n",
            "  y = column_or_1d(y, warn=True)\n",
            "/usr/local/lib/python3.6/dist-packages/sklearn/utils/validation.py:760: DataConversionWarning: A column-vector y was passed when a 1d array was expected. Please change the shape of y to (n_samples, ), for example using ravel().\n",
            "  y = column_or_1d(y, warn=True)\n",
            "/usr/local/lib/python3.6/dist-packages/sklearn/utils/validation.py:760: DataConversionWarning: A column-vector y was passed when a 1d array was expected. Please change the shape of y to (n_samples, ), for example using ravel().\n",
            "  y = column_or_1d(y, warn=True)\n",
            "/usr/local/lib/python3.6/dist-packages/sklearn/utils/validation.py:760: DataConversionWarning: A column-vector y was passed when a 1d array was expected. Please change the shape of y to (n_samples, ), for example using ravel().\n",
            "  y = column_or_1d(y, warn=True)\n",
            "/usr/local/lib/python3.6/dist-packages/sklearn/utils/validation.py:760: DataConversionWarning: A column-vector y was passed when a 1d array was expected. Please change the shape of y to (n_samples, ), for example using ravel().\n",
            "  y = column_or_1d(y, warn=True)\n",
            "/usr/local/lib/python3.6/dist-packages/sklearn/model_selection/_split.py:667: UserWarning: The least populated class in y has only 4 members, which is less than n_splits=5.\n",
            "  % (min_groups, self.n_splits)), UserWarning)\n"
          ],
          "name": "stderr"
        },
        {
          "output_type": "stream",
          "text": [
            "Income Accuracy: 0.3810526315789474  +/- 0.07341303483857978\n",
            "Income F1 Macro: 0.30310305993742526  +/- 0.13718647747554644\n"
          ],
          "name": "stdout"
        }
      ]
    },
    {
      "cell_type": "code",
      "metadata": {
        "colab": {
          "base_uri": "https://localhost:8080/"
        },
        "id": "eTOemZEY4wBg",
        "outputId": "68e54b80-cb6f-4504-8e3a-1aad03ce1743"
      },
      "source": [
        "rf = RandomForestClassifier(bootstrap=True,\n",
        "                              max_depth=10,\n",
        "                              max_features='sqrt',\n",
        "                              random_state=1)\n",
        "rf.fit(gender_feat.values, gender_res.values)\n",
        "accuracy = cross_val_score(rf, gender_feat.values, gender_res.values, cv=5)\n",
        "print(\"Gender Accuracy:\", accuracy.mean(), \" +/-\", accuracy.std() * 2)\n",
        "f1 = cross_val_score(rf, gender_feat.values, np.ravel(gender_res.values), cv=5, scoring='f1_macro')\n",
        "print(\"Gender F1 Macro:\", f1.mean(), \" +/-\", f1.std() * 2 )\n",
        "\n",
        "rf = RandomForestClassifier(bootstrap=True,\n",
        "                              max_depth=10,\n",
        "                              max_features='sqrt',\n",
        "                              random_state=1)\n",
        "rf.fit(income_feat.values, income_res.values)\n",
        "accuracy = cross_val_score(rf, income_feat.values, income_res.values, cv=5)\n",
        "print(\"Income Accuracy:\", accuracy.mean(), \" +/-\", accuracy.std() * 2)\n",
        "f1 = cross_val_score(rf, income_feat.values, np.ravel(income_res.values), cv=5, scoring='f1_macro')\n",
        "print(\"Income F1 Macro:\", f1.mean(), \" +/-\", f1.std() * 2 )"
      ],
      "execution_count": 10,
      "outputs": [
        {
          "output_type": "stream",
          "text": [
            "/usr/local/lib/python3.6/dist-packages/ipykernel_launcher.py:6: DataConversionWarning: A column-vector y was passed when a 1d array was expected. Please change the shape of y to (n_samples,), for example using ravel().\n",
            "  \n",
            "/usr/local/lib/python3.6/dist-packages/sklearn/model_selection/_validation.py:515: DataConversionWarning: A column-vector y was passed when a 1d array was expected. Please change the shape of y to (n_samples,), for example using ravel().\n",
            "  estimator.fit(X_train, y_train, **fit_params)\n",
            "/usr/local/lib/python3.6/dist-packages/sklearn/model_selection/_validation.py:515: DataConversionWarning: A column-vector y was passed when a 1d array was expected. Please change the shape of y to (n_samples,), for example using ravel().\n",
            "  estimator.fit(X_train, y_train, **fit_params)\n",
            "/usr/local/lib/python3.6/dist-packages/sklearn/model_selection/_validation.py:515: DataConversionWarning: A column-vector y was passed when a 1d array was expected. Please change the shape of y to (n_samples,), for example using ravel().\n",
            "  estimator.fit(X_train, y_train, **fit_params)\n",
            "/usr/local/lib/python3.6/dist-packages/sklearn/model_selection/_validation.py:515: DataConversionWarning: A column-vector y was passed when a 1d array was expected. Please change the shape of y to (n_samples,), for example using ravel().\n",
            "  estimator.fit(X_train, y_train, **fit_params)\n",
            "/usr/local/lib/python3.6/dist-packages/sklearn/model_selection/_validation.py:515: DataConversionWarning: A column-vector y was passed when a 1d array was expected. Please change the shape of y to (n_samples,), for example using ravel().\n",
            "  estimator.fit(X_train, y_train, **fit_params)\n"
          ],
          "name": "stderr"
        },
        {
          "output_type": "stream",
          "text": [
            "Gender Accuracy: 0.6535611962804724  +/- 0.032389844947290795\n",
            "Gender F1 Macro: 0.40856404705141314  +/- 0.022723181921450432\n"
          ],
          "name": "stdout"
        },
        {
          "output_type": "stream",
          "text": [
            "/usr/local/lib/python3.6/dist-packages/ipykernel_launcher.py:16: DataConversionWarning: A column-vector y was passed when a 1d array was expected. Please change the shape of y to (n_samples,), for example using ravel().\n",
            "  app.launch_new_instance()\n",
            "/usr/local/lib/python3.6/dist-packages/sklearn/model_selection/_split.py:667: UserWarning: The least populated class in y has only 4 members, which is less than n_splits=5.\n",
            "  % (min_groups, self.n_splits)), UserWarning)\n",
            "/usr/local/lib/python3.6/dist-packages/sklearn/model_selection/_validation.py:515: DataConversionWarning: A column-vector y was passed when a 1d array was expected. Please change the shape of y to (n_samples,), for example using ravel().\n",
            "  estimator.fit(X_train, y_train, **fit_params)\n",
            "/usr/local/lib/python3.6/dist-packages/sklearn/model_selection/_validation.py:515: DataConversionWarning: A column-vector y was passed when a 1d array was expected. Please change the shape of y to (n_samples,), for example using ravel().\n",
            "  estimator.fit(X_train, y_train, **fit_params)\n",
            "/usr/local/lib/python3.6/dist-packages/sklearn/model_selection/_validation.py:515: DataConversionWarning: A column-vector y was passed when a 1d array was expected. Please change the shape of y to (n_samples,), for example using ravel().\n",
            "  estimator.fit(X_train, y_train, **fit_params)\n",
            "/usr/local/lib/python3.6/dist-packages/sklearn/model_selection/_validation.py:515: DataConversionWarning: A column-vector y was passed when a 1d array was expected. Please change the shape of y to (n_samples,), for example using ravel().\n",
            "  estimator.fit(X_train, y_train, **fit_params)\n",
            "/usr/local/lib/python3.6/dist-packages/sklearn/model_selection/_validation.py:515: DataConversionWarning: A column-vector y was passed when a 1d array was expected. Please change the shape of y to (n_samples,), for example using ravel().\n",
            "  estimator.fit(X_train, y_train, **fit_params)\n",
            "/usr/local/lib/python3.6/dist-packages/sklearn/model_selection/_split.py:667: UserWarning: The least populated class in y has only 4 members, which is less than n_splits=5.\n",
            "  % (min_groups, self.n_splits)), UserWarning)\n"
          ],
          "name": "stderr"
        },
        {
          "output_type": "stream",
          "text": [
            "Income Accuracy: 0.3931578947368421  +/- 0.15404427898885656\n",
            "Income F1 Macro: 0.26697003976415745  +/- 0.11744090750562261\n"
          ],
          "name": "stdout"
        }
      ]
    },
    {
      "cell_type": "code",
      "metadata": {
        "colab": {
          "base_uri": "https://localhost:8080/"
        },
        "id": "UXD0ebIw4wN2",
        "outputId": "78e7ed30-b32b-4de6-d4cd-c910dd06a2d1"
      },
      "source": [
        "nb = GaussianNB()\n",
        "nb.fit(gender_feat.values, gender_res.values)\n",
        "accuracy = cross_val_score(nb, gender_feat.values, gender_res.values, cv=5)\n",
        "print(\"Gender Accuracy:\", accuracy.mean(), \" +/-\", accuracy.std() * 2)\n",
        "f1 = cross_val_score(nb, gender_feat.values, np.ravel(gender_res.values), cv=5, scoring='f1_macro')\n",
        "print(\"Gender F1 Macro:\", f1.mean(), \" +/-\", f1.std() * 2 )\n",
        "\n",
        "nb.fit(income_feat.values, income_res.values)\n",
        "accuracy = cross_val_score(nb, income_feat.values, income_res.values, cv=5)\n",
        "print(\"Income Accuracy:\", accuracy.mean(), \" +/-\", accuracy.std() * 2)\n",
        "f1 = cross_val_score(nb, income_feat.values, np.ravel(income_res.values), cv=5, scoring='f1_macro')\n",
        "print(\"Income F1 Macro:\", f1.mean(), \" +/-\", f1.std() * 2 )"
      ],
      "execution_count": 12,
      "outputs": [
        {
          "output_type": "stream",
          "text": [
            "/usr/local/lib/python3.6/dist-packages/sklearn/naive_bayes.py:206: DataConversionWarning: A column-vector y was passed when a 1d array was expected. Please change the shape of y to (n_samples, ), for example using ravel().\n",
            "  y = column_or_1d(y, warn=True)\n",
            "/usr/local/lib/python3.6/dist-packages/sklearn/naive_bayes.py:206: DataConversionWarning: A column-vector y was passed when a 1d array was expected. Please change the shape of y to (n_samples, ), for example using ravel().\n",
            "  y = column_or_1d(y, warn=True)\n",
            "/usr/local/lib/python3.6/dist-packages/sklearn/naive_bayes.py:206: DataConversionWarning: A column-vector y was passed when a 1d array was expected. Please change the shape of y to (n_samples, ), for example using ravel().\n",
            "  y = column_or_1d(y, warn=True)\n",
            "/usr/local/lib/python3.6/dist-packages/sklearn/naive_bayes.py:206: DataConversionWarning: A column-vector y was passed when a 1d array was expected. Please change the shape of y to (n_samples, ), for example using ravel().\n",
            "  y = column_or_1d(y, warn=True)\n",
            "/usr/local/lib/python3.6/dist-packages/sklearn/naive_bayes.py:206: DataConversionWarning: A column-vector y was passed when a 1d array was expected. Please change the shape of y to (n_samples, ), for example using ravel().\n",
            "  y = column_or_1d(y, warn=True)\n",
            "/usr/local/lib/python3.6/dist-packages/sklearn/naive_bayes.py:206: DataConversionWarning: A column-vector y was passed when a 1d array was expected. Please change the shape of y to (n_samples, ), for example using ravel().\n",
            "  y = column_or_1d(y, warn=True)\n"
          ],
          "name": "stderr"
        },
        {
          "output_type": "stream",
          "text": [
            "Gender Accuracy: 0.5540118957862109  +/- 0.1631340735520915\n",
            "Gender F1 Macro: 0.46349535500463224  +/- 0.07373120169747216\n",
            "Income Accuracy: 0.27736842105263154  +/- 0.09234405136615288\n",
            "Income F1 Macro: 0.18405483405483403  +/- 0.08764544163445807\n"
          ],
          "name": "stdout"
        },
        {
          "output_type": "stream",
          "text": [
            "/usr/local/lib/python3.6/dist-packages/sklearn/naive_bayes.py:206: DataConversionWarning: A column-vector y was passed when a 1d array was expected. Please change the shape of y to (n_samples, ), for example using ravel().\n",
            "  y = column_or_1d(y, warn=True)\n",
            "/usr/local/lib/python3.6/dist-packages/sklearn/model_selection/_split.py:667: UserWarning: The least populated class in y has only 4 members, which is less than n_splits=5.\n",
            "  % (min_groups, self.n_splits)), UserWarning)\n",
            "/usr/local/lib/python3.6/dist-packages/sklearn/naive_bayes.py:206: DataConversionWarning: A column-vector y was passed when a 1d array was expected. Please change the shape of y to (n_samples, ), for example using ravel().\n",
            "  y = column_or_1d(y, warn=True)\n",
            "/usr/local/lib/python3.6/dist-packages/sklearn/naive_bayes.py:206: DataConversionWarning: A column-vector y was passed when a 1d array was expected. Please change the shape of y to (n_samples, ), for example using ravel().\n",
            "  y = column_or_1d(y, warn=True)\n",
            "/usr/local/lib/python3.6/dist-packages/sklearn/naive_bayes.py:206: DataConversionWarning: A column-vector y was passed when a 1d array was expected. Please change the shape of y to (n_samples, ), for example using ravel().\n",
            "  y = column_or_1d(y, warn=True)\n",
            "/usr/local/lib/python3.6/dist-packages/sklearn/naive_bayes.py:206: DataConversionWarning: A column-vector y was passed when a 1d array was expected. Please change the shape of y to (n_samples, ), for example using ravel().\n",
            "  y = column_or_1d(y, warn=True)\n",
            "/usr/local/lib/python3.6/dist-packages/sklearn/naive_bayes.py:206: DataConversionWarning: A column-vector y was passed when a 1d array was expected. Please change the shape of y to (n_samples, ), for example using ravel().\n",
            "  y = column_or_1d(y, warn=True)\n",
            "/usr/local/lib/python3.6/dist-packages/sklearn/model_selection/_split.py:667: UserWarning: The least populated class in y has only 4 members, which is less than n_splits=5.\n",
            "  % (min_groups, self.n_splits)), UserWarning)\n"
          ],
          "name": "stderr"
        }
      ]
    },
    {
      "cell_type": "code",
      "metadata": {
        "colab": {
          "base_uri": "https://localhost:8080/"
        },
        "id": "Uapee7ma4wgX",
        "outputId": "6d388179-4e6c-4ff3-aacc-d4f6c510ee1b"
      },
      "source": [
        "income_res = train[[\"row ID\", \"income\"]].dropna()\n",
        "gender_res = train[[\"row ID\", \"gender\"]].dropna()\n",
        "gender_train = gender_res.join(featuresFoursquare.set_index(\"_id\"), on=\"row ID\").dropna()\n",
        "gender_res = gender_train[[\"gender\"]]\n",
        "gender_feat = pd.DataFrame(gender_train)\n",
        "del(gender_feat['row ID'])\n",
        "del(gender_feat['gender'])\n",
        "income_train = income_res.join(featuresFoursquare.set_index(\"_id\"), on=\"row ID\").dropna()\n",
        "income_res = income_train[[\"income\"]]\n",
        "income_feat = pd.DataFrame(income_train)\n",
        "del(income_feat['row ID'])\n",
        "del(income_feat['income'])\n",
        "\n",
        "nb = GaussianNB()\n",
        "nb.fit(gender_feat.values, gender_res.values)\n",
        "accuracy = cross_val_score(nb, gender_feat.values, gender_res.values, cv=5)\n",
        "print(\"NB Gender Accuracy:\", accuracy.mean(), \" +/-\", accuracy.std() * 2)\n",
        "f1 = cross_val_score(nb, gender_feat.values, np.ravel(gender_res.values), cv=5, scoring='f1_macro')\n",
        "print(\"NB Gender F1 Macro:\", f1.mean(), \" +/-\", f1.std() * 2 )\n",
        "\n",
        "nb.fit(income_feat.values, income_res.values)\n",
        "accuracy = cross_val_score(nb, income_feat.values, income_res.values, cv=5)\n",
        "print(\"NB Income Accuracy:\", accuracy.mean(), \" +/-\", accuracy.std() * 2)\n",
        "f1 = cross_val_score(nb, income_feat.values, np.ravel(income_res.values), cv=5, scoring='f1_macro')\n",
        "print(\"NB Income F1 Macro:\", f1.mean(), \" +/-\", f1.std() * 2 )\n",
        "rf = RandomForestClassifier(bootstrap=True,\n",
        "                              max_depth=10,\n",
        "                              max_features='sqrt',\n",
        "                              random_state=1)\n",
        "rf.fit(gender_feat.values, gender_res.values)\n",
        "accuracy = cross_val_score(rf, gender_feat.values, gender_res.values, cv=5)\n",
        "print(\"RF Gender Accuracy:\", accuracy.mean(), \" +/-\", accuracy.std() * 2)\n",
        "f1 = cross_val_score(rf, gender_feat.values, np.ravel(gender_res.values), cv=5, scoring='f1_macro')\n",
        "print(\"RF Gender F1 Macro:\", f1.mean(), \" +/-\", f1.std() * 2 )\n",
        "\n",
        "rf = RandomForestClassifier(bootstrap=True,\n",
        "                              max_depth=10,\n",
        "                              max_features='sqrt',\n",
        "                              random_state=1)\n",
        "rf.fit(income_feat.values, income_res.values)\n",
        "accuracy = cross_val_score(rf, income_feat.values, income_res.values, cv=5)\n",
        "print(\"RF Income Accuracy:\", accuracy.mean(), \" +/-\", accuracy.std() * 2)\n",
        "f1 = cross_val_score(rf, income_feat.values, np.ravel(income_res.values), cv=5, scoring='f1_macro')\n",
        "print(\"RF Income F1 Macro:\", f1.mean(), \" +/-\", f1.std() * 2 )\n",
        "\n",
        "clf = svm.SVC(kernel='linear', C=1).fit(gender_feat.values, gender_res.values)\n",
        "accuracy = cross_val_score(clf, gender_feat.values, gender_res.values, cv=5)\n",
        "print(\"SVM Gender Accuracy:\", accuracy.mean(), \" +/-\", accuracy.std() * 2)\n",
        "f1 = cross_val_score(clf, gender_feat.values, np.ravel(gender_res.values), cv=5, scoring='f1_macro')\n",
        "print(\"SVM Gender F1 Macro:\", f1.mean(), \" +/-\", f1.std() * 2 )\n",
        "\n",
        "clf = svm.SVC(kernel='linear', C=1).fit(income_feat.values, income_res.values)\n",
        "accuracy = cross_val_score(clf, income_feat.values, income_res.values, cv=5)\n",
        "print(\"SVM Income Accuracy:\", accuracy.mean(), \" +/-\", accuracy.std() * 2)\n",
        "f1 = cross_val_score(clf, income_feat.values, np.ravel(income_res.values), cv=5, scoring='f1_macro')\n",
        "print(\"SVM Income F1 Macro:\", f1.mean(), \" +/-\", f1.std() * 2 )\n",
        "\n"
      ],
      "execution_count": 15,
      "outputs": [
        {
          "output_type": "stream",
          "text": [
            "/usr/local/lib/python3.6/dist-packages/sklearn/naive_bayes.py:206: DataConversionWarning: A column-vector y was passed when a 1d array was expected. Please change the shape of y to (n_samples, ), for example using ravel().\n",
            "  y = column_or_1d(y, warn=True)\n",
            "/usr/local/lib/python3.6/dist-packages/sklearn/naive_bayes.py:206: DataConversionWarning: A column-vector y was passed when a 1d array was expected. Please change the shape of y to (n_samples, ), for example using ravel().\n",
            "  y = column_or_1d(y, warn=True)\n",
            "/usr/local/lib/python3.6/dist-packages/sklearn/naive_bayes.py:206: DataConversionWarning: A column-vector y was passed when a 1d array was expected. Please change the shape of y to (n_samples, ), for example using ravel().\n",
            "  y = column_or_1d(y, warn=True)\n",
            "/usr/local/lib/python3.6/dist-packages/sklearn/naive_bayes.py:206: DataConversionWarning: A column-vector y was passed when a 1d array was expected. Please change the shape of y to (n_samples, ), for example using ravel().\n",
            "  y = column_or_1d(y, warn=True)\n",
            "/usr/local/lib/python3.6/dist-packages/sklearn/naive_bayes.py:206: DataConversionWarning: A column-vector y was passed when a 1d array was expected. Please change the shape of y to (n_samples, ), for example using ravel().\n",
            "  y = column_or_1d(y, warn=True)\n",
            "/usr/local/lib/python3.6/dist-packages/sklearn/naive_bayes.py:206: DataConversionWarning: A column-vector y was passed when a 1d array was expected. Please change the shape of y to (n_samples, ), for example using ravel().\n",
            "  y = column_or_1d(y, warn=True)\n",
            "/usr/local/lib/python3.6/dist-packages/sklearn/naive_bayes.py:206: DataConversionWarning: A column-vector y was passed when a 1d array was expected. Please change the shape of y to (n_samples, ), for example using ravel().\n",
            "  y = column_or_1d(y, warn=True)\n",
            "/usr/local/lib/python3.6/dist-packages/sklearn/naive_bayes.py:206: DataConversionWarning: A column-vector y was passed when a 1d array was expected. Please change the shape of y to (n_samples, ), for example using ravel().\n",
            "  y = column_or_1d(y, warn=True)\n",
            "/usr/local/lib/python3.6/dist-packages/sklearn/naive_bayes.py:206: DataConversionWarning: A column-vector y was passed when a 1d array was expected. Please change the shape of y to (n_samples, ), for example using ravel().\n",
            "  y = column_or_1d(y, warn=True)\n",
            "/usr/local/lib/python3.6/dist-packages/sklearn/naive_bayes.py:206: DataConversionWarning: A column-vector y was passed when a 1d array was expected. Please change the shape of y to (n_samples, ), for example using ravel().\n",
            "  y = column_or_1d(y, warn=True)\n",
            "/usr/local/lib/python3.6/dist-packages/sklearn/naive_bayes.py:206: DataConversionWarning: A column-vector y was passed when a 1d array was expected. Please change the shape of y to (n_samples, ), for example using ravel().\n",
            "  y = column_or_1d(y, warn=True)\n",
            "/usr/local/lib/python3.6/dist-packages/sklearn/naive_bayes.py:206: DataConversionWarning: A column-vector y was passed when a 1d array was expected. Please change the shape of y to (n_samples, ), for example using ravel().\n",
            "  y = column_or_1d(y, warn=True)\n",
            "/usr/local/lib/python3.6/dist-packages/ipykernel_launcher.py:30: DataConversionWarning: A column-vector y was passed when a 1d array was expected. Please change the shape of y to (n_samples,), for example using ravel().\n"
          ],
          "name": "stderr"
        },
        {
          "output_type": "stream",
          "text": [
            "NB Gender Accuracy: 0.675807514519379  +/- 0.02067796653106638\n",
            "NB Gender F1 Macro: 0.522110691684454  +/- 0.05484164866189599\n",
            "NB Income Accuracy: 0.3960919540229885  +/- 0.14937647301692578\n",
            "NB Income F1 Macro: 0.3506766264095486  +/- 0.14467371600381146\n"
          ],
          "name": "stdout"
        },
        {
          "output_type": "stream",
          "text": [
            "/usr/local/lib/python3.6/dist-packages/sklearn/model_selection/_validation.py:515: DataConversionWarning: A column-vector y was passed when a 1d array was expected. Please change the shape of y to (n_samples,), for example using ravel().\n",
            "  estimator.fit(X_train, y_train, **fit_params)\n",
            "/usr/local/lib/python3.6/dist-packages/sklearn/model_selection/_validation.py:515: DataConversionWarning: A column-vector y was passed when a 1d array was expected. Please change the shape of y to (n_samples,), for example using ravel().\n",
            "  estimator.fit(X_train, y_train, **fit_params)\n",
            "/usr/local/lib/python3.6/dist-packages/sklearn/model_selection/_validation.py:515: DataConversionWarning: A column-vector y was passed when a 1d array was expected. Please change the shape of y to (n_samples,), for example using ravel().\n",
            "  estimator.fit(X_train, y_train, **fit_params)\n",
            "/usr/local/lib/python3.6/dist-packages/sklearn/model_selection/_validation.py:515: DataConversionWarning: A column-vector y was passed when a 1d array was expected. Please change the shape of y to (n_samples,), for example using ravel().\n",
            "  estimator.fit(X_train, y_train, **fit_params)\n",
            "/usr/local/lib/python3.6/dist-packages/sklearn/model_selection/_validation.py:515: DataConversionWarning: A column-vector y was passed when a 1d array was expected. Please change the shape of y to (n_samples,), for example using ravel().\n",
            "  estimator.fit(X_train, y_train, **fit_params)\n"
          ],
          "name": "stderr"
        },
        {
          "output_type": "stream",
          "text": [
            "RF Gender Accuracy: 0.6967400734858362  +/- 0.011784899204207189\n",
            "RF Gender F1 Macro: 0.4806256025318456  +/- 0.036241942327074346\n"
          ],
          "name": "stdout"
        },
        {
          "output_type": "stream",
          "text": [
            "/usr/local/lib/python3.6/dist-packages/ipykernel_launcher.py:40: DataConversionWarning: A column-vector y was passed when a 1d array was expected. Please change the shape of y to (n_samples,), for example using ravel().\n",
            "/usr/local/lib/python3.6/dist-packages/sklearn/model_selection/_validation.py:515: DataConversionWarning: A column-vector y was passed when a 1d array was expected. Please change the shape of y to (n_samples,), for example using ravel().\n",
            "  estimator.fit(X_train, y_train, **fit_params)\n",
            "/usr/local/lib/python3.6/dist-packages/sklearn/model_selection/_validation.py:515: DataConversionWarning: A column-vector y was passed when a 1d array was expected. Please change the shape of y to (n_samples,), for example using ravel().\n",
            "  estimator.fit(X_train, y_train, **fit_params)\n",
            "/usr/local/lib/python3.6/dist-packages/sklearn/model_selection/_validation.py:515: DataConversionWarning: A column-vector y was passed when a 1d array was expected. Please change the shape of y to (n_samples,), for example using ravel().\n",
            "  estimator.fit(X_train, y_train, **fit_params)\n",
            "/usr/local/lib/python3.6/dist-packages/sklearn/model_selection/_validation.py:515: DataConversionWarning: A column-vector y was passed when a 1d array was expected. Please change the shape of y to (n_samples,), for example using ravel().\n",
            "  estimator.fit(X_train, y_train, **fit_params)\n",
            "/usr/local/lib/python3.6/dist-packages/sklearn/model_selection/_validation.py:515: DataConversionWarning: A column-vector y was passed when a 1d array was expected. Please change the shape of y to (n_samples,), for example using ravel().\n",
            "  estimator.fit(X_train, y_train, **fit_params)\n"
          ],
          "name": "stderr"
        },
        {
          "output_type": "stream",
          "text": [
            "RF Income Accuracy: 0.43034482758620685  +/- 0.16485563813297505\n",
            "RF Income F1 Macro: 0.2982138577653283  +/- 0.1732996246303244\n"
          ],
          "name": "stdout"
        },
        {
          "output_type": "stream",
          "text": [
            "/usr/local/lib/python3.6/dist-packages/sklearn/utils/validation.py:760: DataConversionWarning: A column-vector y was passed when a 1d array was expected. Please change the shape of y to (n_samples, ), for example using ravel().\n",
            "  y = column_or_1d(y, warn=True)\n",
            "/usr/local/lib/python3.6/dist-packages/sklearn/utils/validation.py:760: DataConversionWarning: A column-vector y was passed when a 1d array was expected. Please change the shape of y to (n_samples, ), for example using ravel().\n",
            "  y = column_or_1d(y, warn=True)\n",
            "/usr/local/lib/python3.6/dist-packages/sklearn/utils/validation.py:760: DataConversionWarning: A column-vector y was passed when a 1d array was expected. Please change the shape of y to (n_samples, ), for example using ravel().\n",
            "  y = column_or_1d(y, warn=True)\n",
            "/usr/local/lib/python3.6/dist-packages/sklearn/utils/validation.py:760: DataConversionWarning: A column-vector y was passed when a 1d array was expected. Please change the shape of y to (n_samples, ), for example using ravel().\n",
            "  y = column_or_1d(y, warn=True)\n",
            "/usr/local/lib/python3.6/dist-packages/sklearn/utils/validation.py:760: DataConversionWarning: A column-vector y was passed when a 1d array was expected. Please change the shape of y to (n_samples, ), for example using ravel().\n",
            "  y = column_or_1d(y, warn=True)\n",
            "/usr/local/lib/python3.6/dist-packages/sklearn/utils/validation.py:760: DataConversionWarning: A column-vector y was passed when a 1d array was expected. Please change the shape of y to (n_samples, ), for example using ravel().\n",
            "  y = column_or_1d(y, warn=True)\n"
          ],
          "name": "stderr"
        },
        {
          "output_type": "stream",
          "text": [
            "SVM Gender Accuracy: 0.70258622733199  +/- 0.0011248397433847803\n",
            "SVM Gender F1 Macro: 0.4126581707854068  +/- 0.0003881681751517011\n",
            "SVM Income Accuracy: 0.4698850574712644  +/- 0.012873563218390815\n",
            "SVM Income F1 Macro: 0.159830866807611  +/- 0.0029598308668076223\n"
          ],
          "name": "stdout"
        },
        {
          "output_type": "stream",
          "text": [
            "/usr/local/lib/python3.6/dist-packages/sklearn/utils/validation.py:760: DataConversionWarning: A column-vector y was passed when a 1d array was expected. Please change the shape of y to (n_samples, ), for example using ravel().\n",
            "  y = column_or_1d(y, warn=True)\n",
            "/usr/local/lib/python3.6/dist-packages/sklearn/utils/validation.py:760: DataConversionWarning: A column-vector y was passed when a 1d array was expected. Please change the shape of y to (n_samples, ), for example using ravel().\n",
            "  y = column_or_1d(y, warn=True)\n",
            "/usr/local/lib/python3.6/dist-packages/sklearn/utils/validation.py:760: DataConversionWarning: A column-vector y was passed when a 1d array was expected. Please change the shape of y to (n_samples, ), for example using ravel().\n",
            "  y = column_or_1d(y, warn=True)\n",
            "/usr/local/lib/python3.6/dist-packages/sklearn/utils/validation.py:760: DataConversionWarning: A column-vector y was passed when a 1d array was expected. Please change the shape of y to (n_samples, ), for example using ravel().\n",
            "  y = column_or_1d(y, warn=True)\n",
            "/usr/local/lib/python3.6/dist-packages/sklearn/utils/validation.py:760: DataConversionWarning: A column-vector y was passed when a 1d array was expected. Please change the shape of y to (n_samples, ), for example using ravel().\n",
            "  y = column_or_1d(y, warn=True)\n",
            "/usr/local/lib/python3.6/dist-packages/sklearn/utils/validation.py:760: DataConversionWarning: A column-vector y was passed when a 1d array was expected. Please change the shape of y to (n_samples, ), for example using ravel().\n",
            "  y = column_or_1d(y, warn=True)\n"
          ],
          "name": "stderr"
        }
      ]
    },
    {
      "cell_type": "code",
      "metadata": {
        "colab": {
          "base_uri": "https://localhost:8080/"
        },
        "id": "UyubtczzBuSl",
        "outputId": "e192443d-a257-4f84-9e26-f5d9d0d5fad9"
      },
      "source": [
        "income_res = train[[\"row ID\", \"income\"]].dropna()\n",
        "gender_res = train[[\"row ID\", \"gender\"]].dropna()\n",
        "gender_train = gender_res.join(featuresTwitterLDA50.set_index(\"_id\"), on=\"row ID\").dropna()\n",
        "gender_res = gender_train[[\"gender\"]]\n",
        "gender_feat = pd.DataFrame(gender_train)\n",
        "del(gender_feat['row ID'])\n",
        "del(gender_feat['gender'])\n",
        "income_train = income_res.join(featuresTwitterLDA50.set_index(\"_id\"), on=\"row ID\").dropna()\n",
        "income_res = income_train[[\"income\"]]\n",
        "income_feat = pd.DataFrame(income_train)\n",
        "del(income_feat['row ID'])\n",
        "del(income_feat['income'])\n",
        "\n",
        "nb = GaussianNB()\n",
        "nb.fit(gender_feat.values, gender_res.values)\n",
        "accuracy = cross_val_score(nb, gender_feat.values, gender_res.values, cv=5)\n",
        "print(\"NB Gender Accuracy:\", accuracy.mean(), \" +/-\", accuracy.std() * 2)\n",
        "f1 = cross_val_score(nb, gender_feat.values, np.ravel(gender_res.values), cv=5, scoring='f1_macro')\n",
        "print(\"NB Gender F1 Macro:\", f1.mean(), \" +/-\", f1.std() * 2 )\n",
        "\n",
        "nb.fit(income_feat.values, income_res.values)\n",
        "accuracy = cross_val_score(nb, income_feat.values, income_res.values, cv=5)\n",
        "print(\"NB Income Accuracy:\", accuracy.mean(), \" +/-\", accuracy.std() * 2)\n",
        "f1 = cross_val_score(nb, income_feat.values, np.ravel(income_res.values), cv=5, scoring='f1_macro')\n",
        "print(\"NB Income F1 Macro:\", f1.mean(), \" +/-\", f1.std() * 2 )\n",
        "rf = RandomForestClassifier(bootstrap=True,\n",
        "                              max_depth=10,\n",
        "                              max_features='sqrt',\n",
        "                              random_state=1)\n",
        "rf.fit(gender_feat.values, gender_res.values)\n",
        "accuracy = cross_val_score(rf, gender_feat.values, gender_res.values, cv=5)\n",
        "print(\"RF Gender Accuracy:\", accuracy.mean())\n",
        "f1 = cross_val_score(rf, gender_feat.values, np.ravel(gender_res.values), cv=5, scoring='f1_macro')\n",
        "print(\"RF Gender F1 Macro:\", f1.mean())\n",
        "\n",
        "rf = RandomForestClassifier(bootstrap=True,\n",
        "                              max_depth=10,\n",
        "                              max_features='sqrt',\n",
        "                              random_state=1)\n",
        "rf.fit(income_feat.values, income_res.values)\n",
        "accuracy = cross_val_score(rf, income_feat.values, income_res.values, cv=5)\n",
        "print(\"RF Income Accuracy:\", accuracy.mean())\n",
        "f1 = cross_val_score(rf, income_feat.values, np.ravel(income_res.values), cv=5, scoring='f1_macro')\n",
        "print(\"RF Income F1 Macro:\", f1.mean())\n",
        "\n",
        "clf = svm.SVC(kernel='linear', C=1).fit(gender_feat.values, gender_res.values)\n",
        "accuracy = cross_val_score(clf, gender_feat.values, gender_res.values, cv=5)\n",
        "print(\"SVM Gender Accuracy:\", accuracy.mean())\n",
        "f1 = cross_val_score(clf, gender_feat.values, np.ravel(gender_res.values), cv=5, scoring='f1_macro')\n",
        "print(\"SVM Gender F1 Macro:\", f1.mean())\n",
        "\n",
        "clf = svm.SVC(kernel='linear', C=1).fit(income_feat.values, income_res.values)\n",
        "accuracy = cross_val_score(clf, income_feat.values, income_res.values, cv=5)\n",
        "print(\"SVM Income Accuracy:\", accuracy.mean())\n",
        "f1 = cross_val_score(clf, income_feat.values, np.ravel(income_res.values), cv=5, scoring='f1_macro')\n",
        "print(\"SVM Income F1 Macro:\", f1.mean())"
      ],
      "execution_count": 16,
      "outputs": [
        {
          "output_type": "stream",
          "text": [
            "/usr/local/lib/python3.6/dist-packages/sklearn/naive_bayes.py:206: DataConversionWarning: A column-vector y was passed when a 1d array was expected. Please change the shape of y to (n_samples, ), for example using ravel().\n",
            "  y = column_or_1d(y, warn=True)\n",
            "/usr/local/lib/python3.6/dist-packages/sklearn/naive_bayes.py:206: DataConversionWarning: A column-vector y was passed when a 1d array was expected. Please change the shape of y to (n_samples, ), for example using ravel().\n",
            "  y = column_or_1d(y, warn=True)\n",
            "/usr/local/lib/python3.6/dist-packages/sklearn/naive_bayes.py:206: DataConversionWarning: A column-vector y was passed when a 1d array was expected. Please change the shape of y to (n_samples, ), for example using ravel().\n",
            "  y = column_or_1d(y, warn=True)\n",
            "/usr/local/lib/python3.6/dist-packages/sklearn/naive_bayes.py:206: DataConversionWarning: A column-vector y was passed when a 1d array was expected. Please change the shape of y to (n_samples, ), for example using ravel().\n",
            "  y = column_or_1d(y, warn=True)\n",
            "/usr/local/lib/python3.6/dist-packages/sklearn/naive_bayes.py:206: DataConversionWarning: A column-vector y was passed when a 1d array was expected. Please change the shape of y to (n_samples, ), for example using ravel().\n",
            "  y = column_or_1d(y, warn=True)\n",
            "/usr/local/lib/python3.6/dist-packages/sklearn/naive_bayes.py:206: DataConversionWarning: A column-vector y was passed when a 1d array was expected. Please change the shape of y to (n_samples, ), for example using ravel().\n",
            "  y = column_or_1d(y, warn=True)\n",
            "/usr/local/lib/python3.6/dist-packages/sklearn/naive_bayes.py:206: DataConversionWarning: A column-vector y was passed when a 1d array was expected. Please change the shape of y to (n_samples, ), for example using ravel().\n",
            "  y = column_or_1d(y, warn=True)\n",
            "/usr/local/lib/python3.6/dist-packages/sklearn/naive_bayes.py:206: DataConversionWarning: A column-vector y was passed when a 1d array was expected. Please change the shape of y to (n_samples, ), for example using ravel().\n",
            "  y = column_or_1d(y, warn=True)\n",
            "/usr/local/lib/python3.6/dist-packages/sklearn/naive_bayes.py:206: DataConversionWarning: A column-vector y was passed when a 1d array was expected. Please change the shape of y to (n_samples, ), for example using ravel().\n",
            "  y = column_or_1d(y, warn=True)\n",
            "/usr/local/lib/python3.6/dist-packages/sklearn/naive_bayes.py:206: DataConversionWarning: A column-vector y was passed when a 1d array was expected. Please change the shape of y to (n_samples, ), for example using ravel().\n",
            "  y = column_or_1d(y, warn=True)\n",
            "/usr/local/lib/python3.6/dist-packages/sklearn/naive_bayes.py:206: DataConversionWarning: A column-vector y was passed when a 1d array was expected. Please change the shape of y to (n_samples, ), for example using ravel().\n",
            "  y = column_or_1d(y, warn=True)\n",
            "/usr/local/lib/python3.6/dist-packages/sklearn/naive_bayes.py:206: DataConversionWarning: A column-vector y was passed when a 1d array was expected. Please change the shape of y to (n_samples, ), for example using ravel().\n",
            "  y = column_or_1d(y, warn=True)\n",
            "/usr/local/lib/python3.6/dist-packages/ipykernel_launcher.py:30: DataConversionWarning: A column-vector y was passed when a 1d array was expected. Please change the shape of y to (n_samples,), for example using ravel().\n"
          ],
          "name": "stderr"
        },
        {
          "output_type": "stream",
          "text": [
            "NB Gender Accuracy: 0.5893521393860377  +/- 0.1013817183769566\n",
            "NB Gender F1 Macro: 0.5777020421854553  +/- 0.08888909411000684\n",
            "NB Income Accuracy: 0.33563218390804594  +/- 0.0736063092185109\n",
            "NB Income F1 Macro: 0.29519607267891024  +/- 0.19284969199243093\n"
          ],
          "name": "stdout"
        },
        {
          "output_type": "stream",
          "text": [
            "/usr/local/lib/python3.6/dist-packages/sklearn/model_selection/_validation.py:515: DataConversionWarning: A column-vector y was passed when a 1d array was expected. Please change the shape of y to (n_samples,), for example using ravel().\n",
            "  estimator.fit(X_train, y_train, **fit_params)\n",
            "/usr/local/lib/python3.6/dist-packages/sklearn/model_selection/_validation.py:515: DataConversionWarning: A column-vector y was passed when a 1d array was expected. Please change the shape of y to (n_samples,), for example using ravel().\n",
            "  estimator.fit(X_train, y_train, **fit_params)\n",
            "/usr/local/lib/python3.6/dist-packages/sklearn/model_selection/_validation.py:515: DataConversionWarning: A column-vector y was passed when a 1d array was expected. Please change the shape of y to (n_samples,), for example using ravel().\n",
            "  estimator.fit(X_train, y_train, **fit_params)\n",
            "/usr/local/lib/python3.6/dist-packages/sklearn/model_selection/_validation.py:515: DataConversionWarning: A column-vector y was passed when a 1d array was expected. Please change the shape of y to (n_samples,), for example using ravel().\n",
            "  estimator.fit(X_train, y_train, **fit_params)\n",
            "/usr/local/lib/python3.6/dist-packages/sklearn/model_selection/_validation.py:515: DataConversionWarning: A column-vector y was passed when a 1d array was expected. Please change the shape of y to (n_samples,), for example using ravel().\n",
            "  estimator.fit(X_train, y_train, **fit_params)\n"
          ],
          "name": "stderr"
        },
        {
          "output_type": "stream",
          "text": [
            "RF Gender Accuracy: 0.7458480502548299\n",
            "RF Gender F1 Macro: 0.6117315949345026\n"
          ],
          "name": "stdout"
        },
        {
          "output_type": "stream",
          "text": [
            "/usr/local/lib/python3.6/dist-packages/ipykernel_launcher.py:40: DataConversionWarning: A column-vector y was passed when a 1d array was expected. Please change the shape of y to (n_samples,), for example using ravel().\n",
            "/usr/local/lib/python3.6/dist-packages/sklearn/model_selection/_validation.py:515: DataConversionWarning: A column-vector y was passed when a 1d array was expected. Please change the shape of y to (n_samples,), for example using ravel().\n",
            "  estimator.fit(X_train, y_train, **fit_params)\n",
            "/usr/local/lib/python3.6/dist-packages/sklearn/model_selection/_validation.py:515: DataConversionWarning: A column-vector y was passed when a 1d array was expected. Please change the shape of y to (n_samples,), for example using ravel().\n",
            "  estimator.fit(X_train, y_train, **fit_params)\n",
            "/usr/local/lib/python3.6/dist-packages/sklearn/model_selection/_validation.py:515: DataConversionWarning: A column-vector y was passed when a 1d array was expected. Please change the shape of y to (n_samples,), for example using ravel().\n",
            "  estimator.fit(X_train, y_train, **fit_params)\n",
            "/usr/local/lib/python3.6/dist-packages/sklearn/model_selection/_validation.py:515: DataConversionWarning: A column-vector y was passed when a 1d array was expected. Please change the shape of y to (n_samples,), for example using ravel().\n",
            "  estimator.fit(X_train, y_train, **fit_params)\n",
            "/usr/local/lib/python3.6/dist-packages/sklearn/model_selection/_validation.py:515: DataConversionWarning: A column-vector y was passed when a 1d array was expected. Please change the shape of y to (n_samples,), for example using ravel().\n",
            "  estimator.fit(X_train, y_train, **fit_params)\n"
          ],
          "name": "stderr"
        },
        {
          "output_type": "stream",
          "text": [
            "RF Income Accuracy: 0.3425287356321839\n",
            "RF Income F1 Macro: 0.1929250091747595\n"
          ],
          "name": "stdout"
        },
        {
          "output_type": "stream",
          "text": [
            "/usr/local/lib/python3.6/dist-packages/sklearn/utils/validation.py:760: DataConversionWarning: A column-vector y was passed when a 1d array was expected. Please change the shape of y to (n_samples, ), for example using ravel().\n",
            "  y = column_or_1d(y, warn=True)\n",
            "/usr/local/lib/python3.6/dist-packages/sklearn/utils/validation.py:760: DataConversionWarning: A column-vector y was passed when a 1d array was expected. Please change the shape of y to (n_samples, ), for example using ravel().\n",
            "  y = column_or_1d(y, warn=True)\n",
            "/usr/local/lib/python3.6/dist-packages/sklearn/utils/validation.py:760: DataConversionWarning: A column-vector y was passed when a 1d array was expected. Please change the shape of y to (n_samples, ), for example using ravel().\n",
            "  y = column_or_1d(y, warn=True)\n",
            "/usr/local/lib/python3.6/dist-packages/sklearn/utils/validation.py:760: DataConversionWarning: A column-vector y was passed when a 1d array was expected. Please change the shape of y to (n_samples, ), for example using ravel().\n",
            "  y = column_or_1d(y, warn=True)\n",
            "/usr/local/lib/python3.6/dist-packages/sklearn/utils/validation.py:760: DataConversionWarning: A column-vector y was passed when a 1d array was expected. Please change the shape of y to (n_samples, ), for example using ravel().\n",
            "  y = column_or_1d(y, warn=True)\n",
            "/usr/local/lib/python3.6/dist-packages/sklearn/utils/validation.py:760: DataConversionWarning: A column-vector y was passed when a 1d array was expected. Please change the shape of y to (n_samples, ), for example using ravel().\n",
            "  y = column_or_1d(y, warn=True)\n"
          ],
          "name": "stderr"
        },
        {
          "output_type": "stream",
          "text": [
            "SVM Gender Accuracy: 0.7162673936233258\n",
            "SVM Gender F1 Macro: 0.5280201224615576\n",
            "SVM Income Accuracy: 0.47011494252873565\n",
            "SVM Income F1 Macro: 0.25963455149501663\n"
          ],
          "name": "stdout"
        },
        {
          "output_type": "stream",
          "text": [
            "/usr/local/lib/python3.6/dist-packages/sklearn/utils/validation.py:760: DataConversionWarning: A column-vector y was passed when a 1d array was expected. Please change the shape of y to (n_samples, ), for example using ravel().\n",
            "  y = column_or_1d(y, warn=True)\n",
            "/usr/local/lib/python3.6/dist-packages/sklearn/utils/validation.py:760: DataConversionWarning: A column-vector y was passed when a 1d array was expected. Please change the shape of y to (n_samples, ), for example using ravel().\n",
            "  y = column_or_1d(y, warn=True)\n",
            "/usr/local/lib/python3.6/dist-packages/sklearn/utils/validation.py:760: DataConversionWarning: A column-vector y was passed when a 1d array was expected. Please change the shape of y to (n_samples, ), for example using ravel().\n",
            "  y = column_or_1d(y, warn=True)\n",
            "/usr/local/lib/python3.6/dist-packages/sklearn/utils/validation.py:760: DataConversionWarning: A column-vector y was passed when a 1d array was expected. Please change the shape of y to (n_samples, ), for example using ravel().\n",
            "  y = column_or_1d(y, warn=True)\n",
            "/usr/local/lib/python3.6/dist-packages/sklearn/utils/validation.py:760: DataConversionWarning: A column-vector y was passed when a 1d array was expected. Please change the shape of y to (n_samples, ), for example using ravel().\n",
            "  y = column_or_1d(y, warn=True)\n",
            "/usr/local/lib/python3.6/dist-packages/sklearn/utils/validation.py:760: DataConversionWarning: A column-vector y was passed when a 1d array was expected. Please change the shape of y to (n_samples, ), for example using ravel().\n",
            "  y = column_or_1d(y, warn=True)\n"
          ],
          "name": "stderr"
        }
      ]
    },
    {
      "cell_type": "code",
      "metadata": {
        "id": "ZJWkxBod-yTL"
      },
      "source": [
        "income_res = train[[\"row ID\", \"income\"]].dropna()\n",
        "gender_res = train[[\"row ID\", \"gender\"]].dropna()\n",
        "gender_train = gender_res.join(featuresTwitterLIWC.set_index(\"_id\"), on=\"row ID\").dropna()\n",
        "gender_res = gender_train[[\"gender\"]]\n",
        "gender_feat = pd.DataFrame(gender_train)\n",
        "del(gender_feat['row ID'])\n",
        "del(gender_feat['gender'])\n",
        "income_train = income_res.join(featuresTwitterLIWC.set_index(\"_id\"), on=\"row ID\").dropna()\n",
        "income_res = income_train[[\"income\"]]\n",
        "income_feat = pd.DataFrame(income_train)\n",
        "del(income_feat['row ID'])\n",
        "del(income_feat['income'])\n",
        "\n",
        "nb = GaussianNB()\n",
        "nb.fit(gender_feat.values, gender_res.values)\n",
        "accuracy = cross_val_score(nb, gender_feat.values, gender_res.values, cv=5)\n",
        "print(\"NB Gender Accuracy:\", accuracy.mean(), \" +/-\", accuracy.std() * 2)\n",
        "f1 = cross_val_score(nb, gender_feat.values, np.ravel(gender_res.values), cv=5, scoring='f1_macro')\n",
        "print(\"NB Gender F1 Macro:\", f1.mean(), \" +/-\", f1.std() * 2 )\n",
        "\n",
        "nb.fit(income_feat.values, income_res.values)\n",
        "accuracy = cross_val_score(nb, income_feat.values, income_res.values, cv=5)\n",
        "print(\"NB Income Accuracy:\", accuracy.mean(), \" +/-\", accuracy.std() * 2)\n",
        "f1 = cross_val_score(nb, income_feat.values, np.ravel(income_res.values), cv=5, scoring='f1_macro')\n",
        "print(\"NB Income F1 Macro:\", f1.mean(), \" +/-\", f1.std() * 2 )\n",
        "rf = RandomForestClassifier(bootstrap=True,\n",
        "                              max_depth=10,\n",
        "                              max_features='sqrt',\n",
        "                              random_state=1)\n",
        "rf.fit(gender_feat.values, gender_res.values)\n",
        "accuracy = cross_val_score(rf, gender_feat.values, gender_res.values, cv=5)\n",
        "print(\"RF Gender Accuracy:\", accuracy.mean())\n",
        "f1 = cross_val_score(rf, gender_feat.values, np.ravel(gender_res.values), cv=5, scoring='f1_macro')\n",
        "print(\"RF Gender F1 Macro:\", f1.mean())\n",
        "\n",
        "rf = RandomForestClassifier(bootstrap=True,\n",
        "                              max_depth=10,\n",
        "                              max_features='sqrt',\n",
        "                              random_state=1)\n",
        "rf.fit(income_feat.values, income_res.values)\n",
        "accuracy = cross_val_score(rf, income_feat.values, income_res.values, cv=5)\n",
        "print(\"RF Income Accuracy:\", accuracy.mean())\n",
        "f1 = cross_val_score(rf, income_feat.values, np.ravel(income_res.values), cv=5, scoring='f1_macro')\n",
        "print(\"RF Income F1 Macro:\", f1.mean())"
      ],
      "execution_count": null,
      "outputs": []
    },
    {
      "cell_type": "code",
      "metadata": {
        "colab": {
          "base_uri": "https://localhost:8080/"
        },
        "id": "_Z0vG9Cj-yG1",
        "outputId": "f8faba6f-4a21-4adf-a5c6-85b7642ccc23"
      },
      "source": [
        "income_res = train[[\"row ID\", \"income\"]].dropna()\n",
        "gender_res = train[[\"row ID\", \"gender\"]].dropna()\n",
        "gender_train = gender_res.join(featuresTwitterText.set_index(\"_id\"), on=\"row ID\").dropna()\n",
        "gender_res = gender_train[[\"gender\"]]\n",
        "gender_feat = pd.DataFrame(gender_train)\n",
        "del(gender_feat['row ID'])\n",
        "del(gender_feat['gender'])\n",
        "income_train = income_res.join(featuresTwitterText.set_index(\"_id\"), on=\"row ID\").dropna()\n",
        "income_res = income_train[[\"income\"]]\n",
        "income_feat = pd.DataFrame(income_train)\n",
        "del(income_feat['row ID'])\n",
        "del(income_feat['income'])\n",
        "\n",
        "nb = GaussianNB()\n",
        "nb.fit(gender_feat.values, gender_res.values)\n",
        "accuracy = cross_val_score(nb, gender_feat.values, gender_res.values, cv=5)\n",
        "print(\"NB Gender Accuracy:\", accuracy.mean(), \" +/-\", accuracy.std() * 2)\n",
        "f1 = cross_val_score(nb, gender_feat.values, np.ravel(gender_res.values), cv=5, scoring='f1_macro')\n",
        "print(\"NB Gender F1 Macro:\", f1.mean(), \" +/-\", f1.std() * 2 )\n",
        "\n",
        "nb.fit(income_feat.values, income_res.values)\n",
        "accuracy = cross_val_score(nb, income_feat.values, income_res.values, cv=5)\n",
        "print(\"NB Income Accuracy:\", accuracy.mean(), \" +/-\", accuracy.std() * 2)\n",
        "f1 = cross_val_score(nb, income_feat.values, np.ravel(income_res.values), cv=5, scoring='f1_macro')\n",
        "print(\"NB Income F1 Macro:\", f1.mean(), \" +/-\", f1.std() * 2 )\n",
        "rf = RandomForestClassifier(bootstrap=True,\n",
        "                              max_depth=10,\n",
        "                              max_features='sqrt',\n",
        "                              random_state=1)\n",
        "rf.fit(gender_feat.values, gender_res.values)\n",
        "accuracy = cross_val_score(rf, gender_feat.values, gender_res.values, cv=5)\n",
        "print(\"RF Gender Accuracy:\", accuracy.mean())\n",
        "f1 = cross_val_score(rf, gender_feat.values, np.ravel(gender_res.values), cv=5, scoring='f1_macro')\n",
        "print(\"RF Gender F1 Macro:\", f1.mean())\n",
        "\n",
        "rf = RandomForestClassifier(bootstrap=True,\n",
        "                              max_depth=10,\n",
        "                              max_features='sqrt',\n",
        "                              random_state=1)\n",
        "rf.fit(income_feat.values, income_res.values)\n",
        "accuracy = cross_val_score(rf, income_feat.values, income_res.values, cv=5)\n",
        "print(\"RF Income Accuracy:\", accuracy.mean())\n",
        "f1 = cross_val_score(rf, income_feat.values, np.ravel(income_res.values), cv=5, scoring='f1_macro')\n",
        "print(\"RF Income F1 Macro:\", f1.mean())"
      ],
      "execution_count": null,
      "outputs": [
        {
          "output_type": "stream",
          "text": [
            "/usr/local/lib/python3.6/dist-packages/sklearn/naive_bayes.py:206: DataConversionWarning: A column-vector y was passed when a 1d array was expected. Please change the shape of y to (n_samples, ), for example using ravel().\n",
            "  y = column_or_1d(y, warn=True)\n",
            "/usr/local/lib/python3.6/dist-packages/sklearn/naive_bayes.py:206: DataConversionWarning: A column-vector y was passed when a 1d array was expected. Please change the shape of y to (n_samples, ), for example using ravel().\n",
            "  y = column_or_1d(y, warn=True)\n",
            "/usr/local/lib/python3.6/dist-packages/sklearn/naive_bayes.py:206: DataConversionWarning: A column-vector y was passed when a 1d array was expected. Please change the shape of y to (n_samples, ), for example using ravel().\n",
            "  y = column_or_1d(y, warn=True)\n",
            "/usr/local/lib/python3.6/dist-packages/sklearn/naive_bayes.py:206: DataConversionWarning: A column-vector y was passed when a 1d array was expected. Please change the shape of y to (n_samples, ), for example using ravel().\n",
            "  y = column_or_1d(y, warn=True)\n",
            "/usr/local/lib/python3.6/dist-packages/sklearn/naive_bayes.py:206: DataConversionWarning: A column-vector y was passed when a 1d array was expected. Please change the shape of y to (n_samples, ), for example using ravel().\n",
            "  y = column_or_1d(y, warn=True)\n",
            "/usr/local/lib/python3.6/dist-packages/sklearn/naive_bayes.py:206: DataConversionWarning: A column-vector y was passed when a 1d array was expected. Please change the shape of y to (n_samples, ), for example using ravel().\n",
            "  y = column_or_1d(y, warn=True)\n",
            "/usr/local/lib/python3.6/dist-packages/sklearn/naive_bayes.py:206: DataConversionWarning: A column-vector y was passed when a 1d array was expected. Please change the shape of y to (n_samples, ), for example using ravel().\n",
            "  y = column_or_1d(y, warn=True)\n",
            "/usr/local/lib/python3.6/dist-packages/sklearn/naive_bayes.py:206: DataConversionWarning: A column-vector y was passed when a 1d array was expected. Please change the shape of y to (n_samples, ), for example using ravel().\n",
            "  y = column_or_1d(y, warn=True)\n",
            "/usr/local/lib/python3.6/dist-packages/sklearn/naive_bayes.py:206: DataConversionWarning: A column-vector y was passed when a 1d array was expected. Please change the shape of y to (n_samples, ), for example using ravel().\n",
            "  y = column_or_1d(y, warn=True)\n",
            "/usr/local/lib/python3.6/dist-packages/sklearn/naive_bayes.py:206: DataConversionWarning: A column-vector y was passed when a 1d array was expected. Please change the shape of y to (n_samples, ), for example using ravel().\n",
            "  y = column_or_1d(y, warn=True)\n",
            "/usr/local/lib/python3.6/dist-packages/sklearn/naive_bayes.py:206: DataConversionWarning: A column-vector y was passed when a 1d array was expected. Please change the shape of y to (n_samples, ), for example using ravel().\n",
            "  y = column_or_1d(y, warn=True)\n",
            "/usr/local/lib/python3.6/dist-packages/sklearn/naive_bayes.py:206: DataConversionWarning: A column-vector y was passed when a 1d array was expected. Please change the shape of y to (n_samples, ), for example using ravel().\n",
            "  y = column_or_1d(y, warn=True)\n",
            "/usr/local/lib/python3.6/dist-packages/ipykernel_launcher.py:30: DataConversionWarning: A column-vector y was passed when a 1d array was expected. Please change the shape of y to (n_samples,), for example using ravel().\n"
          ],
          "name": "stderr"
        },
        {
          "output_type": "stream",
          "text": [
            "NB Gender Accuracy: 0.6832512832255233  +/- 0.011520235291983526\n",
            "NB Gender F1 Macro: 0.5276910631641676  +/- 0.06063844672594926\n",
            "NB Income Accuracy: 0.2613793103448276  +/- 0.0947014835518448\n",
            "NB Income F1 Macro: 0.2610096410423878  +/- 0.11531010964951496\n"
          ],
          "name": "stdout"
        },
        {
          "output_type": "stream",
          "text": [
            "/usr/local/lib/python3.6/dist-packages/sklearn/model_selection/_validation.py:515: DataConversionWarning: A column-vector y was passed when a 1d array was expected. Please change the shape of y to (n_samples,), for example using ravel().\n",
            "  estimator.fit(X_train, y_train, **fit_params)\n",
            "/usr/local/lib/python3.6/dist-packages/sklearn/model_selection/_validation.py:515: DataConversionWarning: A column-vector y was passed when a 1d array was expected. Please change the shape of y to (n_samples,), for example using ravel().\n",
            "  estimator.fit(X_train, y_train, **fit_params)\n",
            "/usr/local/lib/python3.6/dist-packages/sklearn/model_selection/_validation.py:515: DataConversionWarning: A column-vector y was passed when a 1d array was expected. Please change the shape of y to (n_samples,), for example using ravel().\n",
            "  estimator.fit(X_train, y_train, **fit_params)\n",
            "/usr/local/lib/python3.6/dist-packages/sklearn/model_selection/_validation.py:515: DataConversionWarning: A column-vector y was passed when a 1d array was expected. Please change the shape of y to (n_samples,), for example using ravel().\n",
            "  estimator.fit(X_train, y_train, **fit_params)\n",
            "/usr/local/lib/python3.6/dist-packages/sklearn/model_selection/_validation.py:515: DataConversionWarning: A column-vector y was passed when a 1d array was expected. Please change the shape of y to (n_samples,), for example using ravel().\n",
            "  estimator.fit(X_train, y_train, **fit_params)\n"
          ],
          "name": "stderr"
        },
        {
          "output_type": "stream",
          "text": [
            "RF Gender Accuracy: 0.7061222737420574\n",
            "RF Gender F1 Macro: 0.5032714382417947\n"
          ],
          "name": "stdout"
        },
        {
          "output_type": "stream",
          "text": [
            "/usr/local/lib/python3.6/dist-packages/ipykernel_launcher.py:40: DataConversionWarning: A column-vector y was passed when a 1d array was expected. Please change the shape of y to (n_samples,), for example using ravel().\n",
            "/usr/local/lib/python3.6/dist-packages/sklearn/model_selection/_validation.py:515: DataConversionWarning: A column-vector y was passed when a 1d array was expected. Please change the shape of y to (n_samples,), for example using ravel().\n",
            "  estimator.fit(X_train, y_train, **fit_params)\n",
            "/usr/local/lib/python3.6/dist-packages/sklearn/model_selection/_validation.py:515: DataConversionWarning: A column-vector y was passed when a 1d array was expected. Please change the shape of y to (n_samples,), for example using ravel().\n",
            "  estimator.fit(X_train, y_train, **fit_params)\n",
            "/usr/local/lib/python3.6/dist-packages/sklearn/model_selection/_validation.py:515: DataConversionWarning: A column-vector y was passed when a 1d array was expected. Please change the shape of y to (n_samples,), for example using ravel().\n",
            "  estimator.fit(X_train, y_train, **fit_params)\n",
            "/usr/local/lib/python3.6/dist-packages/sklearn/model_selection/_validation.py:515: DataConversionWarning: A column-vector y was passed when a 1d array was expected. Please change the shape of y to (n_samples,), for example using ravel().\n",
            "  estimator.fit(X_train, y_train, **fit_params)\n",
            "/usr/local/lib/python3.6/dist-packages/sklearn/model_selection/_validation.py:515: DataConversionWarning: A column-vector y was passed when a 1d array was expected. Please change the shape of y to (n_samples,), for example using ravel().\n",
            "  estimator.fit(X_train, y_train, **fit_params)\n"
          ],
          "name": "stderr"
        },
        {
          "output_type": "stream",
          "text": [
            "RF Income Accuracy: 0.3491954022988505\n",
            "RF Income F1 Macro: 0.18891237147480283\n"
          ],
          "name": "stdout"
        },
        {
          "output_type": "stream",
          "text": [
            "/usr/local/lib/python3.6/dist-packages/sklearn/utils/validation.py:760: DataConversionWarning: A column-vector y was passed when a 1d array was expected. Please change the shape of y to (n_samples, ), for example using ravel().\n",
            "  y = column_or_1d(y, warn=True)\n"
          ],
          "name": "stderr"
        }
      ]
    },
    {
      "cell_type": "code",
      "metadata": {
        "id": "J6kciFEFEV0v"
      },
      "source": [
        "def load_data(features):\n",
        "  income_res = train[[\"row ID\", \"income\"]].dropna()\n",
        "  gender_res = train[[\"row ID\", \"gender\"]].dropna()\n",
        "  gender_train = gender_res.join(features.set_index(\"_id\"), on=\"row ID\").dropna()\n",
        "  gender_res = gender_train[[\"gender\"]]\n",
        "  gender_feat = pd.DataFrame(gender_train)\n",
        "  gender_row_id = gender_feat['row ID']\n",
        "  del(gender_feat['row ID'])\n",
        "  del(gender_feat['gender'])\n",
        "  income_train = income_res.join(features.set_index(\"_id\"), on=\"row ID\").dropna()\n",
        "  income_res = income_train[[\"income\"]]\n",
        "  income_feat = pd.DataFrame(income_train)\n",
        "  income_row_id = income_feat['row ID']\n",
        "  del(income_feat['row ID'])\n",
        "  del(income_feat['income'])\n",
        "  return(gender_feat, gender_res, income_feat, income_res, gender_row_id, income_row_id)"
      ],
      "execution_count": 6,
      "outputs": []
    },
    {
      "cell_type": "code",
      "metadata": {
        "colab": {
          "base_uri": "https://localhost:8080/"
        },
        "id": "sY5y8z81EV-M",
        "outputId": "14131b04-500c-4037-c077-f46b62ce6270"
      },
      "source": [
        "(gender_feat_i, gender_res_i, income_feat_i, income_res_i, g_i_rows, i_i_rows) = load_data(featuresInstagram)\n",
        "g_clf_i = svm.SVC(kernel='linear', C=1, probability = True).fit(gender_feat_i.values, gender_res_i.values)\n",
        "i_clf_i = (RandomForestClassifier(bootstrap=True,\n",
        "                              max_depth=10,\n",
        "                              max_features='sqrt',\n",
        "                              random_state=1)).fit(income_feat_i.values, income_res_i.values)\n",
        "(gender_feat_f, gender_res_f, income_feat_f, income_res_f, g_f_rows, i_f_rows) = load_data(featuresFoursquare)\n",
        "g_clf_f = svm.SVC(kernel='linear', C=1, probability=True).fit(gender_feat_f.values, gender_res_f.values)\n",
        "i_clf_f = svm.SVC(kernel='linear', C=1).fit(income_feat_f.values, income_res_f.values)\n",
        "(gender_feat_t_lda50, gender_res_t_lda50, income_feat_t_lda50, income_res_t_lda50, g_lda50_rows, i_lda50_rows) = load_data(featuresTwitterLDA50)\n",
        "g_clf_t_lda50 = (RandomForestClassifier(bootstrap=True,\n",
        "                              max_depth=10,\n",
        "                              max_features='sqrt',\n",
        "                              random_state=1)).fit(gender_feat_t_lda50.values, gender_res_t_lda50.values)\n",
        "i_clf_t_lda50 = svm.SVC(kernel='linear', C=1, probability=True).fit(income_feat_t_lda50.values, income_res_t_lda50.values)\n",
        "(gender_feat_t_liwc, gender_res_t_liwc, income_feat_t_liwc, income_res_t_liwc, g_liwc_rows, i_liwc_rows) = load_data(featuresTwitterLIWC)\n",
        "g_clf_t_liwc = (RandomForestClassifier(bootstrap=True,\n",
        "                              max_depth=10,\n",
        "                              max_features='sqrt',\n",
        "                              random_state=1)).fit(gender_feat_t_liwc.values, gender_res_t_liwc.values)\n",
        "i_clf_t_liwc = (RandomForestClassifier(bootstrap=True,\n",
        "                              max_depth=10,\n",
        "                              max_features='sqrt',\n",
        "                              random_state=1)).fit(income_feat_t_liwc.values, income_res_t_liwc.values)\n",
        "(gender_feat_t_text, gender_res_t_text, income_feat_t_text, income_res_t_text, g_text_rows, i_text_rows) = load_data(featuresTwitterText)\n",
        "g_clf_t_text = (RandomForestClassifier(bootstrap=True,\n",
        "                              max_depth=10,\n",
        "                              max_features='sqrt',\n",
        "                              random_state=1)).fit(gender_feat_t_text.values, gender_res_t_text.values)\n",
        "i_clf_t_text = (RandomForestClassifier(bootstrap=True,\n",
        "                              max_depth=10,\n",
        "                              max_features='sqrt',\n",
        "                              random_state=1)).fit(income_feat_t_text.values, income_res_t_text.values)"
      ],
      "execution_count": 69,
      "outputs": [
        {
          "output_type": "stream",
          "text": [
            "/usr/local/lib/python3.6/dist-packages/sklearn/utils/validation.py:760: DataConversionWarning: A column-vector y was passed when a 1d array was expected. Please change the shape of y to (n_samples, ), for example using ravel().\n",
            "  y = column_or_1d(y, warn=True)\n",
            "/usr/local/lib/python3.6/dist-packages/ipykernel_launcher.py:6: DataConversionWarning: A column-vector y was passed when a 1d array was expected. Please change the shape of y to (n_samples,), for example using ravel().\n",
            "  \n",
            "/usr/local/lib/python3.6/dist-packages/sklearn/utils/validation.py:760: DataConversionWarning: A column-vector y was passed when a 1d array was expected. Please change the shape of y to (n_samples, ), for example using ravel().\n",
            "  y = column_or_1d(y, warn=True)\n",
            "/usr/local/lib/python3.6/dist-packages/sklearn/utils/validation.py:760: DataConversionWarning: A column-vector y was passed when a 1d array was expected. Please change the shape of y to (n_samples, ), for example using ravel().\n",
            "  y = column_or_1d(y, warn=True)\n",
            "/usr/local/lib/python3.6/dist-packages/ipykernel_launcher.py:14: DataConversionWarning: A column-vector y was passed when a 1d array was expected. Please change the shape of y to (n_samples,), for example using ravel().\n",
            "  \n",
            "/usr/local/lib/python3.6/dist-packages/sklearn/utils/validation.py:760: DataConversionWarning: A column-vector y was passed when a 1d array was expected. Please change the shape of y to (n_samples, ), for example using ravel().\n",
            "  y = column_or_1d(y, warn=True)\n",
            "/usr/local/lib/python3.6/dist-packages/ipykernel_launcher.py:20: DataConversionWarning: A column-vector y was passed when a 1d array was expected. Please change the shape of y to (n_samples,), for example using ravel().\n",
            "/usr/local/lib/python3.6/dist-packages/ipykernel_launcher.py:24: DataConversionWarning: A column-vector y was passed when a 1d array was expected. Please change the shape of y to (n_samples,), for example using ravel().\n",
            "/usr/local/lib/python3.6/dist-packages/ipykernel_launcher.py:29: DataConversionWarning: A column-vector y was passed when a 1d array was expected. Please change the shape of y to (n_samples,), for example using ravel().\n",
            "/usr/local/lib/python3.6/dist-packages/ipykernel_launcher.py:33: DataConversionWarning: A column-vector y was passed when a 1d array was expected. Please change the shape of y to (n_samples,), for example using ravel().\n"
          ],
          "name": "stderr"
        }
      ]
    },
    {
      "cell_type": "code",
      "metadata": {
        "id": "uc8VYMVxMRLx"
      },
      "source": [
        "gender_test_rows = pd.concat([g_i_rows, g_f_rows, g_lda50_rows, g_liwc_rows, g_text_rows], axis=1, join='inner')\n",
        "gender_test_rows = gender_test_rows.values\n",
        "g_i_test_feat = []\n",
        "g_f_test_feat = []\n",
        "g_Lda_test_feat = []\n",
        "g_LIWC_test_feat = []\n",
        "g_Text_test_feat = []\n",
        "for (id, id1, id2, id3, id4) in gender_test_rows:\n",
        "  a_i = featuresInstagram.loc[featuresInstagram['_id'].str.contains(id)] \n",
        "  del(a_i[\"_id\"])\n",
        "  g_i_test_feat.append(a_i.values[0])\n",
        "  a_f = featuresFoursquare.loc[featuresFoursquare['_id'].str.contains(id)] \n",
        "  del(a_f[\"_id\"])\n",
        "  g_f_test_feat.append(np.array(a_f.values[0]))\n",
        "  a_LIWC = featuresTwitterLIWC.loc[featuresTwitterLIWC['_id'].str.contains(id)] \n",
        "  del(a_LIWC[\"_id\"])\n",
        "  g_LIWC_test_feat.append(np.array(a_LIWC.values[0]))\n",
        "  a_Text = featuresTwitterText.loc[featuresTwitterText['_id'].str.contains(id)] \n",
        "  del(a_Text[\"_id\"])\n",
        "  g_Text_test_feat.append(np.array(a_Text.values[0]))\n",
        "  a_Lda = featuresTwitterLDA50.loc[featuresTwitterLDA50['_id'].str.contains(id)] \n",
        "  del(a_Lda[\"_id\"])\n",
        "  g_Lda_test_feat.append(np.array(a_Lda.values[0]))\n"
      ],
      "execution_count": 73,
      "outputs": []
    },
    {
      "cell_type": "code",
      "metadata": {
        "id": "S1a4TCjRPrjO"
      },
      "source": [
        "g_clf_i_res = g_clf_i.predict_proba(g_i_test_feat)\n",
        "g_clf_f_res = g_clf_f.predict_proba(g_f_test_feat)\n",
        "g_clf_t_lda50_res = g_clf_t_lda50.predict_proba(g_Lda_test_feat)\n",
        "g_clf_t_liwc_res = g_clf_t_liwc.predict_proba(g_LIWC_test_feat)\n",
        "g_clf_t_text_res = g_clf_t_text.predict_proba(g_Text_test_feat)"
      ],
      "execution_count": 98,
      "outputs": []
    },
    {
      "cell_type": "code",
      "metadata": {
        "id": "tLmnrI9SRezB"
      },
      "source": [
        "train_feat_2 = []\n",
        "for i in range(len(g_clf_i_res)):\n",
        "  train_feat_2.append(np.concatenate((g_clf_i_res[i], g_clf_f_res[i], g_clf_t_lda50_res[i], g_clf_t_liwc_res[i], g_clf_t_text_res[i])))"
      ],
      "execution_count": 89,
      "outputs": []
    },
    {
      "cell_type": "code",
      "metadata": {
        "id": "VZ8V86uJPBwX"
      },
      "source": [
        "train_res_2 = []\n",
        "for (id, id1, id2, id3, id4) in gender_test_rows:\n",
        "  a = train.loc[train['row ID'].str.contains(id)] \n",
        "  a = a[[\"gender\"]]\n",
        "  train_res_2.append(a.values[0])"
      ],
      "execution_count": 94,
      "outputs": []
    },
    {
      "cell_type": "code",
      "metadata": {
        "colab": {
          "base_uri": "https://localhost:8080/"
        },
        "id": "37Kt-ujhMYY3",
        "outputId": "6dc92c41-5201-4321-d2c6-fa5e3935164f"
      },
      "source": [
        "clf = svm.SVC(kernel='linear', C=1, probability = True)\n",
        "accuracy = cross_val_score(clf, train_feat_2, train_res_2, cv=5)\n",
        "print(\"2 Gender Accuracy:\", accuracy.mean())\n",
        "f1 = cross_val_score(clf, train_feat_2, train_res_2, cv=5, scoring='f1_macro')\n",
        "print(\"2 Gender F1 Macro:\", f1.mean())"
      ],
      "execution_count": 97,
      "outputs": [
        {
          "output_type": "stream",
          "text": [
            "2 Gender Accuracy: 0.9987692307692309\n",
            "2 Gender F1 Macro: 0.9986257928118393\n"
          ],
          "name": "stdout"
        },
        {
          "output_type": "stream",
          "text": [
            "/usr/local/lib/python3.6/dist-packages/sklearn/utils/validation.py:760: DataConversionWarning: A column-vector y was passed when a 1d array was expected. Please change the shape of y to (n_samples, ), for example using ravel().\n",
            "  y = column_or_1d(y, warn=True)\n",
            "/usr/local/lib/python3.6/dist-packages/sklearn/utils/validation.py:760: DataConversionWarning: A column-vector y was passed when a 1d array was expected. Please change the shape of y to (n_samples, ), for example using ravel().\n",
            "  y = column_or_1d(y, warn=True)\n",
            "/usr/local/lib/python3.6/dist-packages/sklearn/utils/validation.py:760: DataConversionWarning: A column-vector y was passed when a 1d array was expected. Please change the shape of y to (n_samples, ), for example using ravel().\n",
            "  y = column_or_1d(y, warn=True)\n",
            "/usr/local/lib/python3.6/dist-packages/sklearn/utils/validation.py:760: DataConversionWarning: A column-vector y was passed when a 1d array was expected. Please change the shape of y to (n_samples, ), for example using ravel().\n",
            "  y = column_or_1d(y, warn=True)\n",
            "/usr/local/lib/python3.6/dist-packages/sklearn/utils/validation.py:760: DataConversionWarning: A column-vector y was passed when a 1d array was expected. Please change the shape of y to (n_samples, ), for example using ravel().\n",
            "  y = column_or_1d(y, warn=True)\n",
            "/usr/local/lib/python3.6/dist-packages/sklearn/utils/validation.py:760: DataConversionWarning: A column-vector y was passed when a 1d array was expected. Please change the shape of y to (n_samples, ), for example using ravel().\n",
            "  y = column_or_1d(y, warn=True)\n",
            "/usr/local/lib/python3.6/dist-packages/sklearn/utils/validation.py:760: DataConversionWarning: A column-vector y was passed when a 1d array was expected. Please change the shape of y to (n_samples, ), for example using ravel().\n",
            "  y = column_or_1d(y, warn=True)\n",
            "/usr/local/lib/python3.6/dist-packages/sklearn/utils/validation.py:760: DataConversionWarning: A column-vector y was passed when a 1d array was expected. Please change the shape of y to (n_samples, ), for example using ravel().\n",
            "  y = column_or_1d(y, warn=True)\n",
            "/usr/local/lib/python3.6/dist-packages/sklearn/utils/validation.py:760: DataConversionWarning: A column-vector y was passed when a 1d array was expected. Please change the shape of y to (n_samples, ), for example using ravel().\n",
            "  y = column_or_1d(y, warn=True)\n",
            "/usr/local/lib/python3.6/dist-packages/sklearn/utils/validation.py:760: DataConversionWarning: A column-vector y was passed when a 1d array was expected. Please change the shape of y to (n_samples, ), for example using ravel().\n",
            "  y = column_or_1d(y, warn=True)\n"
          ],
          "name": "stderr"
        }
      ]
    },
    {
      "cell_type": "code",
      "metadata": {
        "id": "FFuSQ7QhMYec"
      },
      "source": [
        "def my_merge(a, ids):\n",
        "  for i in ids:\n",
        "    ids[i].append(0.5)\n",
        "    ids[i].append(0.5)\n",
        "  for i in a:\n",
        "    ids[i][-1] = a[i][-1]\n",
        "    ids[i][-2] = a[i][-2]\n",
        "  return ids"
      ],
      "execution_count": 137,
      "outputs": []
    },
    {
      "cell_type": "code",
      "metadata": {
        "id": "toMkeE2Ok-aX"
      },
      "source": [
        "g_clf_i_res = g_clf_i.predict_proba(gender_feat_i)\n",
        "g_clf_f_res = g_clf_f.predict_proba(gender_feat_f)\n",
        "g_clf_t_lda50_res = g_clf_t_lda50.predict_proba(gender_feat_t_lda50)\n",
        "g_clf_t_liwc_res = g_clf_t_liwc.predict_proba(gender_feat_t_liwc)\n",
        "g_clf_t_text_res = g_clf_t_text.predict_proba(gender_feat_t_text)"
      ],
      "execution_count": null,
      "outputs": []
    },
    {
      "cell_type": "code",
      "metadata": {
        "id": "XLK0sdPBk-g8"
      },
      "source": [
        "g_clf_i_res_2 = dict()\n",
        "g_clf_f_res_2 = dict()\n",
        "g_clf_lda50_res_2 = dict()\n",
        "g_clf_liwc_res_2 = dict()\n",
        "g_clf_text_res_2 = dict()\n",
        "res = dict()\n",
        "for i in range(len(g_i_rows.values)):\n",
        "  a = g_clf_i_res[i].tolist()\n",
        "  id = (str(g_i_rows.values[i]))\n",
        "  g_clf_i_res_2[id] = a\n",
        "  if (id not in res):\n",
        "    res[id] = []\n",
        "for i in range(len(g_f_rows.values)):\n",
        "  a = g_clf_f_res[i].tolist()\n",
        "  id = (str(g_f_rows.values[i]))\n",
        "  g_clf_f_res_2[id] = a\n",
        "  if (id not in res):\n",
        "    res[id] = []\n",
        "for i in range(len(g_lda50_rows.values)):\n",
        "  a = g_clf_t_lda50_res[i].tolist()\n",
        "  id = (str(g_lda50_rows.values[i]))\n",
        "  g_clf_lda50_res_2[id] = a\n",
        "  if (id not in res):\n",
        "    res[id] = []\n",
        "for i in range(len(g_liwc_rows.values)):\n",
        "  a = g_clf_t_liwc_res[i].tolist()\n",
        "  id = (str(g_liwc_rows.values[i]))\n",
        "  g_clf_liwc_res_2[id] = a\n",
        "  if (id not in res):\n",
        "    res[id] = []\n",
        "for i in range(len(g_text_rows.values)):\n",
        "  a = g_clf_t_text_res[i].tolist()\n",
        "  id = (str(g_text_rows.values[i]))\n",
        "  g_clf_text_res_2[id] = a\n",
        "  if (id not in res):\n",
        "    res[id] = []\n",
        "res_2 = my_merge(g_clf_i_res_2, res)\n",
        "res_2 = my_merge(g_clf_f_res_2, res_2)\n",
        "res_2 = my_merge(g_clf_lda50_res_2, res_2)\n",
        "res_2 = my_merge(g_clf_liwc_res_2, res_2)\n",
        "res_2 = my_merge(g_clf_text_res_2, res_2)\n"
      ],
      "execution_count": 144,
      "outputs": []
    },
    {
      "cell_type": "code",
      "metadata": {
        "id": "e_wpn056wEpI"
      },
      "source": [
        "keys = res_2.keys()\n",
        "train_feat_2 = []\n",
        "for k in keys:\n",
        "  train_feat_2.append(res[k])\n",
        "train_res_2 = []\n",
        "for id in keys:\n",
        "  a = train.loc[train['row ID'].str.contains(id)] \n",
        "  a = a[[\"gender\"]]\n",
        "  train_res_2.append(a.values[0])"
      ],
      "execution_count": 140,
      "outputs": []
    },
    {
      "cell_type": "code",
      "metadata": {
        "colab": {
          "base_uri": "https://localhost:8080/"
        },
        "id": "T7Brec4jk-n5",
        "outputId": "3aca2895-cff6-43ba-b6d9-dea268e7a5b1"
      },
      "source": [
        "\n",
        "clf = svm.SVC(kernel='linear', C=1, probability = True)\n",
        "accuracy = cross_val_score(clf, train_feat_2, train_res_2, cv=5)\n",
        "print(\"2 Gender Accuracy:\", accuracy.mean())\n",
        "f1 = cross_val_score(clf, train_feat_2, train_res_2, cv=5, scoring='f1_macro')\n",
        "print(\"2 Gender F1 Macro:\", f1.mean())"
      ],
      "execution_count": 143,
      "outputs": [
        {
          "output_type": "stream",
          "text": [
            "/usr/local/lib/python3.6/dist-packages/sklearn/utils/validation.py:760: DataConversionWarning: A column-vector y was passed when a 1d array was expected. Please change the shape of y to (n_samples, ), for example using ravel().\n",
            "  y = column_or_1d(y, warn=True)\n",
            "/usr/local/lib/python3.6/dist-packages/sklearn/utils/validation.py:760: DataConversionWarning: A column-vector y was passed when a 1d array was expected. Please change the shape of y to (n_samples, ), for example using ravel().\n",
            "  y = column_or_1d(y, warn=True)\n",
            "/usr/local/lib/python3.6/dist-packages/sklearn/utils/validation.py:760: DataConversionWarning: A column-vector y was passed when a 1d array was expected. Please change the shape of y to (n_samples, ), for example using ravel().\n",
            "  y = column_or_1d(y, warn=True)\n",
            "/usr/local/lib/python3.6/dist-packages/sklearn/utils/validation.py:760: DataConversionWarning: A column-vector y was passed when a 1d array was expected. Please change the shape of y to (n_samples, ), for example using ravel().\n",
            "  y = column_or_1d(y, warn=True)\n",
            "/usr/local/lib/python3.6/dist-packages/sklearn/utils/validation.py:760: DataConversionWarning: A column-vector y was passed when a 1d array was expected. Please change the shape of y to (n_samples, ), for example using ravel().\n",
            "  y = column_or_1d(y, warn=True)\n"
          ],
          "name": "stderr"
        },
        {
          "output_type": "stream",
          "text": [
            "2 Gender Accuracy: 0.9898328789854214\n"
          ],
          "name": "stdout"
        },
        {
          "output_type": "stream",
          "text": [
            "/usr/local/lib/python3.6/dist-packages/sklearn/utils/validation.py:760: DataConversionWarning: A column-vector y was passed when a 1d array was expected. Please change the shape of y to (n_samples, ), for example using ravel().\n",
            "  y = column_or_1d(y, warn=True)\n",
            "/usr/local/lib/python3.6/dist-packages/sklearn/utils/validation.py:760: DataConversionWarning: A column-vector y was passed when a 1d array was expected. Please change the shape of y to (n_samples, ), for example using ravel().\n",
            "  y = column_or_1d(y, warn=True)\n",
            "/usr/local/lib/python3.6/dist-packages/sklearn/utils/validation.py:760: DataConversionWarning: A column-vector y was passed when a 1d array was expected. Please change the shape of y to (n_samples, ), for example using ravel().\n",
            "  y = column_or_1d(y, warn=True)\n",
            "/usr/local/lib/python3.6/dist-packages/sklearn/utils/validation.py:760: DataConversionWarning: A column-vector y was passed when a 1d array was expected. Please change the shape of y to (n_samples, ), for example using ravel().\n",
            "  y = column_or_1d(y, warn=True)\n"
          ],
          "name": "stderr"
        },
        {
          "output_type": "stream",
          "text": [
            "2 Gender F1 Macro: 0.9875267835988513\n"
          ],
          "name": "stdout"
        },
        {
          "output_type": "stream",
          "text": [
            "/usr/local/lib/python3.6/dist-packages/sklearn/utils/validation.py:760: DataConversionWarning: A column-vector y was passed when a 1d array was expected. Please change the shape of y to (n_samples, ), for example using ravel().\n",
            "  y = column_or_1d(y, warn=True)\n"
          ],
          "name": "stderr"
        }
      ]
    }
  ]
}